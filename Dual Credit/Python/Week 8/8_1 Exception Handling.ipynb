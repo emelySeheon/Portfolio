{
 "cells": [
  {
   "cell_type": "markdown",
   "metadata": {},
   "source": [
    "# Errors and Exceptions\n",
    "\n",
    "* Python has different types of errors that you can encounter\n",
    "\n",
    "* Exceptions are triggered automatically on encountering these errors, or programmers can create their own exceptions if they detect a situation in the program execution that warrants it"
   ]
  },
  {
   "cell_type": "markdown",
   "metadata": {},
   "source": [
    "## Syntax Error \n",
    "\n",
    "These are errors that occur from using the wrong python programming language syntax. An IDE (like IDLE or Jupyter Notebook) catches these errors."
   ]
  },
  {
   "cell_type": "code",
   "execution_count": null,
   "metadata": {},
   "outputs": [],
   "source": [
    "for i in range(10)\n",
    "    print(i)"
   ]
  },
  {
   "cell_type": "markdown",
   "metadata": {},
   "source": [
    "## Runtime Error(Exceptions)\n",
    "\n",
    "Even if the program is free of syntax errors, the program may exit unexpectedly during execution \n",
    "if it encounters a runtime error and python will raise an exception."
   ]
  },
  {
   "cell_type": "code",
   "execution_count": null,
   "metadata": {},
   "outputs": [],
   "source": [
    "my_division = 3/0\n",
    "\n",
    "print(my_division)"
   ]
  },
  {
   "cell_type": "code",
   "execution_count": null,
   "metadata": {},
   "outputs": [],
   "source": [
    "import math\n",
    "number = int(input(\"Please enter an integer \"))\n",
    "print(math.sqrt(number))"
   ]
  },
  {
   "cell_type": "markdown",
   "metadata": {},
   "source": [
    "## Semantic/ Logic Error\n",
    "\n",
    "Your program might run without crashing (no syntax or run-time errors), but still give you the wrong result. \n",
    "\n",
    "This can be due to an error in the underlying algorithm or an error in our translation of that algorithm.\n"
   ]
  },
  {
   "cell_type": "code",
   "execution_count": null,
   "metadata": {},
   "outputs": [],
   "source": [
    "# Average is 3+4 = 7/2 = 3.5. This prgram doesn't calculate average correctly, because of operator precedence.  \n",
    "x = 3\n",
    "y = 4\n",
    "average = x + y / 2\n",
    "print(average)"
   ]
  },
  {
   "cell_type": "markdown",
   "metadata": {
    "collapsed": true
   },
   "source": [
    "## Handling Exceptions within your code\n",
    "\n",
    "Exceptions that occur during runtime in Python are handled using one of the following:\n",
    "\n",
    "**try / except**\n",
    "\n",
    "Catch and recover from exceptions raised by Python, or by you.\n",
    "\n",
    "**try / finally**\n",
    "\n",
    "Perform cleanup actions, whether exceptions occur or not.\n",
    "\n",
    "**raise**\n",
    "\n",
    "Trigger an exception manually in your code.\n",
    "\n",
    "**assert**\n",
    "\n",
    "Conditionally trigger an exception in your code.\n",
    "\n",
    "\n",
    "https://docs.python.org/3/library/exceptions.html"
   ]
  },
  {
   "cell_type": "markdown",
   "metadata": {},
   "source": [
    "##  try/except \n",
    "\n",
    "* This is to prevent Python's default exception-handling behavior (stops and prints and error message)\n",
    "* A single try statement can have multiple except statements depending on the requirement. \n",
    "* An except statment can have multiple error types as a tuple except (ValueError, NameError)\n",
    "* You can have a generic exception,  - except exception. Generally it is not advisable to use this.\n",
    "* You can include an else clause after the except clause. The else block will execute if the code in the try block doesn’t raise an exception.\n"
   ]
  },
  {
   "cell_type": "code",
   "execution_count": 7,
   "metadata": {},
   "outputs": [
    {
     "name": "stdout",
     "output_type": "stream",
     "text": [
      "entervidya\n"
     ]
    },
    {
     "ename": "ValueError",
     "evalue": "invalid literal for int() with base 10: 'vidya'",
     "output_type": "error",
     "traceback": [
      "\u001b[1;31m---------------------------------------------------------------------------\u001b[0m",
      "\u001b[1;31mValueError\u001b[0m                                Traceback (most recent call last)",
      "\u001b[1;32m<ipython-input-7-e02d7d840156>\u001b[0m in \u001b[0;36m<module>\u001b[1;34m()\u001b[0m\n\u001b[0;32m      1\u001b[0m \u001b[1;31m# An example of an error in python\u001b[0m\u001b[1;33m\u001b[0m\u001b[1;33m\u001b[0m\u001b[0m\n\u001b[1;32m----> 2\u001b[1;33m \u001b[0muserinput\u001b[0m \u001b[1;33m=\u001b[0m \u001b[0mint\u001b[0m\u001b[1;33m(\u001b[0m\u001b[0minput\u001b[0m\u001b[1;33m(\u001b[0m\u001b[1;34m'enter'\u001b[0m\u001b[1;33m)\u001b[0m\u001b[1;33m)\u001b[0m\u001b[1;33m\u001b[0m\u001b[0m\n\u001b[0m\u001b[0;32m      3\u001b[0m \u001b[0mprint\u001b[0m\u001b[1;33m(\u001b[0m\u001b[0muserinput\u001b[0m \u001b[1;33m+\u001b[0m \u001b[1;36m45\u001b[0m\u001b[1;33m)\u001b[0m\u001b[1;33m\u001b[0m\u001b[0m\n",
      "\u001b[1;31mValueError\u001b[0m: invalid literal for int() with base 10: 'vidya'"
     ]
    }
   ],
   "source": [
    "# An example of an error in python\n",
    "userinput = int(input('enter'))\n",
    "print(userinput + 45)"
   ]
  },
  {
   "cell_type": "code",
   "execution_count": 7,
   "metadata": {},
   "outputs": [
    {
     "name": "stdout",
     "output_type": "stream",
     "text": [
      "Enter something --> 90.0\n",
      "Please enter a number\n"
     ]
    }
   ],
   "source": [
    "# Example 1\n",
    "try:\n",
    "    number = int(input('Enter something --> '))\n",
    "except ValueError:\n",
    "    print('Please enter a number')\n",
    "else:\n",
    "    print('You entered {}'.format(number))  "
   ]
  },
  {
   "cell_type": "code",
   "execution_count": 1,
   "metadata": {},
   "outputs": [
    {
     "name": "stdout",
     "output_type": "stream",
     "text": [
      "Cannot divide by zero\n",
      "\n"
     ]
    }
   ],
   "source": [
    "# Example 2 - Defining exceptions within a function\n",
    "def radius_dist(r,d):\n",
    "    try:\n",
    "        x = d/r\n",
    "        return x\n",
    "    except ZeroDivisionError:\n",
    "        print(\"Cannot divide by zero\\n\")\n",
    "        \n",
    "radius_dist(0,2)"
   ]
  },
  {
   "cell_type": "code",
   "execution_count": 19,
   "metadata": {},
   "outputs": [
    {
     "name": "stdout",
     "output_type": "stream",
     "text": [
      "Error: can't find the file or read data\n"
     ]
    }
   ],
   "source": [
    "# Example 3\n",
    "try:\n",
    "    with open(\"solar_system.txt\", \"r\") as myfile_obj:\n",
    "        myfile_obj.read()\n",
    "except FileNotFoundError:\n",
    "    print(\"Error: can\\'t find the file or read data\")"
   ]
  },
  {
   "cell_type": "markdown",
   "metadata": {},
   "source": [
    "## try/finally\n",
    "\n",
    "With try block, you also have the option to define the `finally` block. \n",
    "\n",
    "This allows defining statements that you want to execute, regardless of whether the try block has raised an exception or not. This is useful for termination actions.\n",
    "\n",
    "**The newer `with`statement offers an alternative for objects that support it**"
   ]
  },
  {
   "cell_type": "code",
   "execution_count": 13,
   "metadata": {},
   "outputs": [
    {
     "name": "stdout",
     "output_type": "stream",
     "text": [
      "try block executed\n",
      "finally block executed\n"
     ]
    }
   ],
   "source": [
    "# Example 1\n",
    "\n",
    "# This can also be done using the with statement and not having a finally statement\n",
    "\n",
    "try:\n",
    "    myfilew_obj = open('mytest', 'w')\n",
    "    myfilew_obj.write(\"Writing to mytest file\")\n",
    "    print('Successfully wrote to file')\n",
    "finally:\n",
    "    myfilew_obj.close()\n",
    "    print('finally block executed')"
   ]
  },
  {
   "cell_type": "code",
   "execution_count": 14,
   "metadata": {},
   "outputs": [
    {
     "name": "stdout",
     "output_type": "stream",
     "text": [
      "Error: can't find file or read data\n"
     ]
    }
   ],
   "source": [
    "# Example 2:\n",
    "\n",
    "# Nested try statements\n",
    "try:\n",
    "    myfile_obj = open('test', 'r')\n",
    "    try:\n",
    "        myfile_obj.write(\"Sample Test\")\n",
    "        print('try block executed')\n",
    "    finally:\n",
    "        myfile_obj.close()\n",
    "        print('finally block executed to close the file')\n",
    "except FileNotFoundError:\n",
    "    print(\"Error: can\\'t find file or read data\")"
   ]
  },
  {
   "cell_type": "code",
   "execution_count": 21,
   "metadata": {},
   "outputs": [
    {
     "name": "stdout",
     "output_type": "stream",
     "text": [
      "division by zero!\n",
      "executing finally clause\n"
     ]
    }
   ],
   "source": [
    "# Example 3: \n",
    "x = 7; y = 0\n",
    "try:\n",
    "    result = x / y\n",
    "except ZeroDivisionError:\n",
    "    print(\"division by zero!\")\n",
    "else:\n",
    "    print(\"result is\", result)\n",
    "finally:\n",
    "    print(\"executing finally clause\")"
   ]
  },
  {
   "cell_type": "markdown",
   "metadata": {},
   "source": [
    "## Raising exceptions\n",
    "The raise statement allows the programmer to force a specified exception to occur. \n",
    "\n",
    "raise [exceptionname[, args [, traceback]]]\n",
    "\n",
    "* Exceptionname - e.g., RuntimeError\n",
    "\n",
    "* The “args” is optional and represents the value of the exception argument.\n",
    "\n",
    "* The final argument, “traceback,” is also optional and if present, is the traceback object used for the exception.\n"
   ]
  },
  {
   "cell_type": "code",
   "execution_count": null,
   "metadata": {},
   "outputs": [],
   "source": [
    "# Here insted of putting the code in a try/except block, we are checking for value and raising an error.\n",
    "import math\n",
    "number = int(input(\"Please enter an integer \"))\n",
    "if number < 0:\n",
    "    raise RuntimeError(\"You can't find the square root of a negative number\")\n",
    "else:\n",
    "    print(math.sqrt(number))"
   ]
  },
  {
   "cell_type": "markdown",
   "metadata": {},
   "source": []
  },
  {
   "cell_type": "markdown",
   "metadata": {},
   "source": [
    "## Assert\n",
    "\n",
    "Assertions are internal self-checks for your program.\n",
    "\n",
    "They are used for trapping user defined constraints, not to catch errors that python can catch (such as Type mismatch, Index out of range etc.)\n",
    "\n",
    "It can be disabled in production using the -o switch"
   ]
  },
  {
   "cell_type": "code",
   "execution_count": 13,
   "metadata": {},
   "outputs": [
    {
     "name": "stdout",
     "output_type": "stream",
     "text": [
      "Please enter a number between 5 and 1089\n"
     ]
    },
    {
     "ename": "AssertionError",
     "evalue": "",
     "output_type": "error",
     "traceback": [
      "\u001b[1;31m---------------------------------------------------------------------------\u001b[0m",
      "\u001b[1;31mAssertionError\u001b[0m                            Traceback (most recent call last)",
      "\u001b[1;32m<ipython-input-13-e2360a92b606>\u001b[0m in \u001b[0;36m<module>\u001b[1;34m()\u001b[0m\n\u001b[0;32m      1\u001b[0m \u001b[0muserinput\u001b[0m \u001b[1;33m=\u001b[0m \u001b[0mint\u001b[0m\u001b[1;33m(\u001b[0m\u001b[0minput\u001b[0m\u001b[1;33m(\u001b[0m\u001b[1;34m\"Please enter a number between 5 and 10\"\u001b[0m\u001b[1;33m)\u001b[0m\u001b[1;33m)\u001b[0m\u001b[1;33m\u001b[0m\u001b[0m\n\u001b[1;32m----> 2\u001b[1;33m \u001b[1;32massert\u001b[0m \u001b[1;36m5\u001b[0m \u001b[1;33m<=\u001b[0m \u001b[0muserinput\u001b[0m \u001b[1;33m<=\u001b[0m \u001b[1;36m10\u001b[0m\u001b[1;33m\u001b[0m\u001b[0m\n\u001b[0m\u001b[0;32m      3\u001b[0m \u001b[0mprint\u001b[0m\u001b[1;33m(\u001b[0m\u001b[1;34m\"You entered {}\"\u001b[0m\u001b[1;33m.\u001b[0m\u001b[0mformat\u001b[0m\u001b[1;33m(\u001b[0m\u001b[0muserinput\u001b[0m\u001b[1;33m)\u001b[0m\u001b[1;33m)\u001b[0m\u001b[1;33m\u001b[0m\u001b[0m\n",
      "\u001b[1;31mAssertionError\u001b[0m: "
     ]
    }
   ],
   "source": [
    "userinput = int(input(\"Please enter a number between 5 and 10\"))\n",
    "assert 5 <= userinput <= 10\n",
    "print(\"You entered {}\".format(userinput))"
   ]
  },
  {
   "cell_type": "code",
   "execution_count": null,
   "metadata": {},
   "outputs": [],
   "source": []
  }
 ],
 "metadata": {
  "anaconda-cloud": {},
  "kernelspec": {
   "display_name": "Python 3",
   "language": "python",
   "name": "python3"
  },
  "language_info": {
   "codemirror_mode": {
    "name": "ipython",
    "version": 3
   },
   "file_extension": ".py",
   "mimetype": "text/x-python",
   "name": "python",
   "nbconvert_exporter": "python",
   "pygments_lexer": "ipython3",
   "version": "3.8.3"
  }
 },
 "nbformat": 4,
 "nbformat_minor": 1
}
