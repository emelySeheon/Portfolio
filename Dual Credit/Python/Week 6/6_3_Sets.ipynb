{
 "cells": [
  {
   "cell_type": "markdown",
   "metadata": {},
   "source": [
    "# Sets\n",
    "\n",
    "* A set is an unordered collection of unique values.\n",
    "\n",
    "* Values in a set has to be unique, but can be of any datatype.\n",
    "\n",
    "\n"
   ]
  },
  {
   "cell_type": "markdown",
   "metadata": {},
   "source": [
    "## Creating a Set"
   ]
  },
  {
   "cell_type": "code",
   "execution_count": 69,
   "metadata": {},
   "outputs": [
    {
     "name": "stdout",
     "output_type": "stream",
     "text": [
      "{'python', 'fortran', 'java'}\n"
     ]
    }
   ],
   "source": [
    "# Method 1\n",
    "my_set = {'python', 'java', 'fortran'}\n",
    "print(my_set)\n",
    "\n",
    "my_set_new = {'perl', 'python', 'php'}"
   ]
  },
  {
   "cell_type": "code",
   "execution_count": 70,
   "metadata": {},
   "outputs": [
    {
     "name": "stdout",
     "output_type": "stream",
     "text": [
      "{'daffodils', 'roses', 'lillies'}\n"
     ]
    }
   ],
   "source": [
    "# Creating a set from a list. If the list has duplicates it will be removed. Sets are unordered\n",
    "\n",
    "flower_set  = set(['roses', 'lillies', 'daffodils'])\n",
    "\n",
    "print(flower_set)"
   ]
  },
  {
   "cell_type": "code",
   "execution_count": 61,
   "metadata": {},
   "outputs": [
    {
     "name": "stdout",
     "output_type": "stream",
     "text": [
      "set()\n"
     ]
    }
   ],
   "source": [
    "# Creating an empty set\n",
    "\n",
    "empty_set = set() # Note how it displays. You cannot create an empty set with {}. that is a dict\n",
    "\n",
    "print(empty_set)"
   ]
  },
  {
   "cell_type": "markdown",
   "metadata": {},
   "source": [
    "## Modifying a set"
   ]
  },
  {
   "cell_type": "code",
   "execution_count": 71,
   "metadata": {},
   "outputs": [
    {
     "name": "stdout",
     "output_type": "stream",
     "text": [
      "{'python', 'fortran', 'julia', 'java'}\n"
     ]
    }
   ],
   "source": [
    "# add only takes one argument\n",
    "\n",
    "my_set.add('julia')\n",
    "\n",
    "print(my_set)"
   ]
  },
  {
   "cell_type": "code",
   "execution_count": 72,
   "metadata": {},
   "outputs": [
    {
     "name": "stdout",
     "output_type": "stream",
     "text": [
      "{'python', 'java', 'julia', 'fortran', 'html', 'php'}\n"
     ]
    }
   ],
   "source": [
    "# Update method takes one argument which could be a list, set, string or integer\n",
    "\n",
    "my_set.update({'php', 'html'})\n",
    "\n",
    "print(my_set)"
   ]
  },
  {
   "cell_type": "markdown",
   "metadata": {},
   "source": [
    "## Removing items from a set"
   ]
  },
  {
   "cell_type": "code",
   "execution_count": 73,
   "metadata": {},
   "outputs": [
    {
     "name": "stdout",
     "output_type": "stream",
     "text": [
      "{'python', 'julia', 'fortran', 'html', 'php'}\n"
     ]
    }
   ],
   "source": [
    "# Discard will remove if object exists, otherwise no op.\n",
    "\n",
    "my_set.discard('java')\n",
    "\n",
    "print(my_set)"
   ]
  },
  {
   "cell_type": "code",
   "execution_count": 74,
   "metadata": {},
   "outputs": [
    {
     "name": "stdout",
     "output_type": "stream",
     "text": [
      "{'python', 'julia', 'fortran', 'php'}\n"
     ]
    }
   ],
   "source": [
    "# Remove will error if an object doesn't exist\n",
    "\n",
    "my_set.remove('html')\n",
    "\n",
    "print(my_set)"
   ]
  },
  {
   "cell_type": "code",
   "execution_count": 75,
   "metadata": {},
   "outputs": [
    {
     "data": {
      "text/plain": [
       "'python'"
      ]
     },
     "execution_count": 75,
     "metadata": {},
     "output_type": "execute_result"
    }
   ],
   "source": [
    "# Removes a random element. \n",
    "my_set.pop()"
   ]
  },
  {
   "cell_type": "code",
   "execution_count": null,
   "metadata": {},
   "outputs": [],
   "source": [
    "# Clear removes all elements from the set. I didn't run this. \n",
    "my_set.clear()\n",
    "\n",
    "print(my_set)"
   ]
  },
  {
   "cell_type": "markdown",
   "metadata": {},
   "source": [
    "## Additional Set Operations"
   ]
  },
  {
   "cell_type": "code",
   "execution_count": 76,
   "metadata": {},
   "outputs": [
    {
     "data": {
      "text/plain": [
       "True"
      ]
     },
     "execution_count": 76,
     "metadata": {},
     "output_type": "execute_result"
    }
   ],
   "source": [
    "# in operator for membership\n",
    "\n",
    "'julia' in my_set"
   ]
  },
  {
   "cell_type": "code",
   "execution_count": 77,
   "metadata": {},
   "outputs": [
    {
     "data": {
      "text/plain": [
       "{'daffodils', 'fortran', 'julia', 'lillies', 'php', 'roses'}"
      ]
     },
     "execution_count": 77,
     "metadata": {},
     "output_type": "execute_result"
    }
   ],
   "source": [
    "# Joins two sets\n",
    "my_set.union(flower_set)"
   ]
  },
  {
   "cell_type": "code",
   "execution_count": 78,
   "metadata": {},
   "outputs": [
    {
     "data": {
      "text/plain": [
       "{'php'}"
      ]
     },
     "execution_count": 78,
     "metadata": {},
     "output_type": "execute_result"
    }
   ],
   "source": [
    "# Finds the common elements between two sets\n",
    "my_set.intersection(my_set_new)"
   ]
  },
  {
   "cell_type": "code",
   "execution_count": 85,
   "metadata": {},
   "outputs": [
    {
     "name": "stdout",
     "output_type": "stream",
     "text": [
      "{'julia', 'fortran'}\n",
      "{'python', 'perl'}\n",
      "False\n"
     ]
    }
   ],
   "source": [
    "# Finds elements that are in my_set but not in my_set_new\n",
    "\n",
    "\n",
    "print(my_set.difference(my_set_new))\n",
    "\n",
    "print(my_set_new.difference(my_set))\n",
    "\n",
    "# This is the only one which is not symmetric\n",
    "\n",
    "print(my_set.difference(my_set_new) == my_set_new.difference(my_set))"
   ]
  },
  {
   "cell_type": "code",
   "execution_count": 81,
   "metadata": {},
   "outputs": [
    {
     "data": {
      "text/plain": [
       "{'fortran', 'julia', 'perl', 'python'}"
      ]
     },
     "execution_count": 81,
     "metadata": {},
     "output_type": "execute_result"
    }
   ],
   "source": [
    "# Finds elements that are only in one of the sets. Any common element is removed\n",
    "my_set.symmetric_difference(my_set_new)"
   ]
  },
  {
   "cell_type": "markdown",
   "metadata": {},
   "source": [
    "## Additional Set Methods"
   ]
  },
  {
   "cell_type": "code",
   "execution_count": 87,
   "metadata": {},
   "outputs": [
    {
     "data": {
      "text/plain": [
       "False"
      ]
     },
     "execution_count": 87,
     "metadata": {},
     "output_type": "execute_result"
    }
   ],
   "source": [
    "# Are all members of my_set are also members of my_set_new\n",
    "my_set.issubset(my_set_new)"
   ]
  },
  {
   "cell_type": "code",
   "execution_count": 88,
   "metadata": {},
   "outputs": [
    {
     "data": {
      "text/plain": [
       "False"
      ]
     },
     "execution_count": 88,
     "metadata": {},
     "output_type": "execute_result"
    }
   ],
   "source": [
    "# Same as above but in reverse\n",
    "my_set.issuperset(my_set_new)"
   ]
  },
  {
   "cell_type": "code",
   "execution_count": null,
   "metadata": {},
   "outputs": [],
   "source": []
  }
 ],
 "metadata": {
  "kernelspec": {
   "display_name": "Python 3",
   "language": "python",
   "name": "python3"
  },
  "language_info": {
   "codemirror_mode": {
    "name": "ipython",
    "version": 3
   },
   "file_extension": ".py",
   "mimetype": "text/x-python",
   "name": "python",
   "nbconvert_exporter": "python",
   "pygments_lexer": "ipython3",
   "version": "3.8.3"
  }
 },
 "nbformat": 4,
 "nbformat_minor": 1
}
