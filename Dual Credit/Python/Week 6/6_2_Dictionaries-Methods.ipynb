{
 "cells": [
  {
   "cell_type": "markdown",
   "metadata": {},
   "source": [
    "# Dictionary Methods"
   ]
  },
  {
   "cell_type": "code",
   "execution_count": 14,
   "metadata": {},
   "outputs": [
    {
     "name": "stdout",
     "output_type": "stream",
     "text": [
      "{'roses': 46, 'lillies': 7, 'tulips': 54}\n"
     ]
    }
   ],
   "source": [
    "flowers_dict = { 'roses': 46, 'lillies': 7, 'tulips':54 }\n",
    "print(flowers_dict)"
   ]
  },
  {
   "cell_type": "code",
   "execution_count": 34,
   "metadata": {},
   "outputs": [
    {
     "name": "stdout",
     "output_type": "stream",
     "text": [
      "{'roses': 78, 'hyacinths': 12}\n"
     ]
    }
   ],
   "source": [
    "new_flowers = {'roses': 78, 'hyacinths': 12}\n",
    "print(new_flowers)"
   ]
  },
  {
   "cell_type": "code",
   "execution_count": null,
   "metadata": {},
   "outputs": [],
   "source": [
    "other_dict=dict(ATT=37.5, C=69)\n",
    "\n",
    "print(other_dict)\n"
   ]
  },
  {
   "cell_type": "code",
   "execution_count": null,
   "metadata": {},
   "outputs": [],
   "source": [
    "yet_other_dict=dict([('AZ', 2), ('NM', 'carlsbad')])\n",
    "\n",
    "print(yet_other_dict)"
   ]
  },
  {
   "cell_type": "code",
   "execution_count": null,
   "metadata": {},
   "outputs": [],
   "source": [
    "nested_dict = {'roses':{'genre': 'hybridtea', 'count':70}, 'lillies':{'genre': 'asiatic', 'count':60}}\n",
    "\n",
    "print(nested_dict)"
   ]
  },
  {
   "cell_type": "markdown",
   "metadata": {},
   "source": [
    "## List all Keys, Values and Key + Value "
   ]
  },
  {
   "cell_type": "code",
   "execution_count": 2,
   "metadata": {},
   "outputs": [
    {
     "data": {
      "text/plain": [
       "dict_keys(['roses', 'lillies', 'tulips'])"
      ]
     },
     "execution_count": 2,
     "metadata": {},
     "output_type": "execute_result"
    }
   ],
   "source": [
    "flowers_dict.keys()"
   ]
  },
  {
   "cell_type": "code",
   "execution_count": 15,
   "metadata": {},
   "outputs": [
    {
     "data": {
      "text/plain": [
       "dict_values([46, 7, 54])"
      ]
     },
     "execution_count": 15,
     "metadata": {},
     "output_type": "execute_result"
    }
   ],
   "source": [
    "flowers_dict.values()"
   ]
  },
  {
   "cell_type": "code",
   "execution_count": 16,
   "metadata": {},
   "outputs": [
    {
     "data": {
      "text/plain": [
       "dict_items([('roses', 46), ('lillies', 7), ('tulips', 54)])"
      ]
     },
     "execution_count": 16,
     "metadata": {},
     "output_type": "execute_result"
    }
   ],
   "source": [
    "flowers_dict.items()"
   ]
  },
  {
   "cell_type": "code",
   "execution_count": 19,
   "metadata": {},
   "outputs": [
    {
     "name": "stdout",
     "output_type": "stream",
     "text": [
      "roses\n",
      "lillies\n",
      "tulips\n",
      "\n",
      "............\n",
      "tulips 46\n",
      "tulips 7\n",
      "tulips 54\n",
      "\n",
      "............\n",
      "roses 46\n",
      "lillies 7\n",
      "tulips 54\n",
      "\n",
      "............\n",
      "roses 46\n"
     ]
    }
   ],
   "source": [
    "# printing keys using for loop uisng the .keys method\n",
    "\n",
    "for key in flowers_dict.keys():\n",
    "    print(key)\n",
    "    \n",
    "print('\\n............') # printing new line for formatting\n",
    "# printing values using for loop using the .values method\n",
    "\n",
    "for value in flowers_dict.values():\n",
    "        print(key, value)\n",
    "\n",
    "print('\\n............')\n",
    "#printing all key, values using For loop\n",
    "\n",
    "for keys,value in flowers_dict.items():#which creates tuple i.e comma seperated key value pairs.  \n",
    "        print(keys,value)\n",
    "        \n",
    "print('\\n............')        \n",
    "\n",
    "#printing key, values using For loop for a specific value\n",
    "for keys,value in flowers_dict.items():#which creates tuple i.e comma seperated key value pairs. \n",
    "     if value == 46: # Only select the key:value pair with the specified value\n",
    "        print(keys,value)\n",
    "    "
   ]
  },
  {
   "cell_type": "code",
   "execution_count": 13,
   "metadata": {},
   "outputs": [
    {
     "name": "stdout",
     "output_type": "stream",
     "text": [
      "All keys in dict: ['roses', 'lillies']\n"
     ]
    }
   ],
   "source": [
    "#converint dictionary keys to a list\n",
    "print(\"All keys in dict:\" ,list(flowers_dict))\n"
   ]
  },
  {
   "cell_type": "code",
   "execution_count": 35,
   "metadata": {},
   "outputs": [
    {
     "data": {
      "text/plain": [
       "46"
      ]
     },
     "execution_count": 35,
     "metadata": {},
     "output_type": "execute_result"
    }
   ],
   "source": [
    "# get values by key\n",
    "flowers_dict.get('roses')"
   ]
  },
  {
   "cell_type": "code",
   "execution_count": 24,
   "metadata": {},
   "outputs": [
    {
     "name": "stdout",
     "output_type": "stream",
     "text": [
      "{'roses': 78, 'lillies': 7, 'hyacinths': 12}\n"
     ]
    }
   ],
   "source": [
    "# Update the two dictonaries by key. Note which one you are updating \n",
    "flowers_dict.update(new_flowers)\n",
    "print(flowers_dict)"
   ]
  },
  {
   "cell_type": "code",
   "execution_count": 29,
   "metadata": {},
   "outputs": [
    {
     "name": "stdout",
     "output_type": "stream",
     "text": [
      "{'lillies': 7, 'hyacinths': 12}\n"
     ]
    }
   ],
   "source": [
    "# Remove by key\n",
    "\n",
    "flowers_dict.pop('roses')\n",
    "print(flowers_dict)"
   ]
  },
  {
   "cell_type": "code",
   "execution_count": null,
   "metadata": {},
   "outputs": [],
   "source": []
  }
 ],
 "metadata": {
  "kernelspec": {
   "display_name": "Python 3",
   "language": "python",
   "name": "python3"
  },
  "language_info": {
   "codemirror_mode": {
    "name": "ipython",
    "version": 3
   },
   "file_extension": ".py",
   "mimetype": "text/x-python",
   "name": "python",
   "nbconvert_exporter": "python",
   "pygments_lexer": "ipython3",
   "version": "3.8.3"
  }
 },
 "nbformat": 4,
 "nbformat_minor": 1
}
