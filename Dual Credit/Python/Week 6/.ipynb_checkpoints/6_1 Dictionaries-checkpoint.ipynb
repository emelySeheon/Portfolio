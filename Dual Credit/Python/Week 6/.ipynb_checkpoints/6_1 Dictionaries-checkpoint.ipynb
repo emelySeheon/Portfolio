{
 "cells": [
  {
   "cell_type": "markdown",
   "metadata": {},
   "source": [
    "# Dictionaries\n",
    "\n",
    "Dictionaries are mappings, and they contain a collection of indices called keys and their corresponding value - Key:value \n",
    "\n",
    "* Notated using {}\n",
    "\n",
    "* **unordered** collections meaning they are not stored in a particular order.\n",
    "\n",
    "* Accessed by key, not index position like list.\n",
    "\n",
    "* Are **mutable**\n",
    "* Many kinds of objects can be used as keys,but not all! (e.g., lists)"
   ]
  },
  {
   "cell_type": "markdown",
   "metadata": {},
   "source": [
    "## Creating a Dictionary"
   ]
  },
  {
   "cell_type": "code",
   "execution_count": 27,
   "metadata": {},
   "outputs": [
    {
     "name": "stdout",
     "output_type": "stream",
     "text": [
      "{'roses': 46, 'lillies': 7}\n"
     ]
    }
   ],
   "source": [
    "# Method 1\n",
    "flowers_dict = { 'roses': 46, 'lillies': 7 }\n",
    "print(flowers_dict)"
   ]
  },
  {
   "cell_type": "code",
   "execution_count": 3,
   "metadata": {},
   "outputs": [
    {
     "name": "stdout",
     "output_type": "stream",
     "text": [
      "{'ATT': 37.5, 'C': 69}\n"
     ]
    }
   ],
   "source": [
    "# Method 2\n",
    "\n",
    "other_dict=dict(ATT=37.5, C=69)\n",
    "\n",
    "print(other_dict)"
   ]
  },
  {
   "cell_type": "code",
   "execution_count": 4,
   "metadata": {},
   "outputs": [
    {
     "name": "stdout",
     "output_type": "stream",
     "text": [
      "{'AZ': 2, 'NM': 'carlsbad'}\n"
     ]
    }
   ],
   "source": [
    "yet_other_dict=dict([('AZ', 2), ('NM', 'carlsbad')])\n",
    "\n",
    "print(yet_other_dict)"
   ]
  },
  {
   "cell_type": "code",
   "execution_count": 11,
   "metadata": {},
   "outputs": [
    {
     "name": "stdout",
     "output_type": "stream",
     "text": [
      "{'roses': {'genre': 'hybridtea', 'count': 70}, 'lillies': {'genre': 'hybridtea', 'count': 70}}\n"
     ]
    }
   ],
   "source": [
    "nested_dict = {'roses':{'genre': 'hybridtea', 'count':70}, 'lillies':{'genre': 'asiatic', 'count':60}}\n",
    "\n",
    "print(nested_dict)"
   ]
  },
  {
   "cell_type": "code",
   "execution_count": 6,
   "metadata": {},
   "outputs": [
    {
     "name": "stdout",
     "output_type": "stream",
     "text": [
      "{}\n"
     ]
    }
   ],
   "source": [
    "# Creating an empty dictionary - Method 1\n",
    "\n",
    "my_empty_dict = {}\n",
    "\n",
    "print(my_empty_dict)"
   ]
  },
  {
   "cell_type": "code",
   "execution_count": 7,
   "metadata": {},
   "outputs": [
    {
     "name": "stdout",
     "output_type": "stream",
     "text": [
      "{}\n"
     ]
    }
   ],
   "source": [
    "# Creating an empty dictionary - Method 2\n",
    "\n",
    "my_new_empty_dict = dict()\n",
    "print(my_new_empty_dict)"
   ]
  },
  {
   "cell_type": "code",
   "execution_count": 19,
   "metadata": {},
   "outputs": [
    {
     "name": "stdout",
     "output_type": "stream",
     "text": [
      "{'marigolds': 45, 'peonies': 34, 'daffodils': 23}\n"
     ]
    }
   ],
   "source": [
    "# Creating dictionaries from lists using zip \n",
    "\n",
    "flowerlist = ('marigolds', 'peonies', 'daffodils')\n",
    "countlist = (45,34,23)\n",
    "dict_list = dict(zip(flowerlist, countlist))\n",
    "print(dict_list)"
   ]
  },
  {
   "cell_type": "code",
   "execution_count": 23,
   "metadata": {},
   "outputs": [
    {
     "name": "stdout",
     "output_type": "stream",
     "text": [
      "{'flowers': None, 'fruits': None}\n"
     ]
    }
   ],
   "source": [
    "# Creating a dictionary with just keys. You can add values later. \n",
    "dict_from_keys = dict.fromkeys(['flowers','fruits'])\n",
    "print(dict_from_keys)"
   ]
  },
  {
   "cell_type": "markdown",
   "metadata": {},
   "source": [
    "## Retreiving items in dictionary"
   ]
  },
  {
   "cell_type": "code",
   "execution_count": 11,
   "metadata": {},
   "outputs": [
    {
     "name": "stdout",
     "output_type": "stream",
     "text": [
      "46\n"
     ]
    }
   ],
   "source": [
    "print(flowers_dict['roses'])"
   ]
  },
  {
   "cell_type": "code",
   "execution_count": 16,
   "metadata": {},
   "outputs": [
    {
     "name": "stdout",
     "output_type": "stream",
     "text": [
      "dogs\n",
      "cats\n",
      "other\n",
      "10\n",
      "1\n",
      "5\n",
      "dogs 10\n",
      "cats 1\n",
      "other 5\n"
     ]
    }
   ],
   "source": [
    "animals = {\"dogs\":10, \"cats\":1,\"other\":5}\n",
    "\n",
    "# Printing keys\n",
    "for key in animals:\n",
    "    print(key)\n",
    "    \n",
    "# Printing values \n",
    "for key in animals:\n",
    "    print (animals[key])\n",
    "\n",
    "# printing key and value\n",
    "for key in animals:\n",
    "    print (key,animals[key])"
   ]
  },
  {
   "cell_type": "markdown",
   "metadata": {},
   "source": [
    "## Adding items or chnaging to a Dictionary\n",
    "\n",
    "* Each key has one value created and modified by assignment.\n",
    "\n",
    "* Keys have to be unique"
   ]
  },
  {
   "cell_type": "code",
   "execution_count": 28,
   "metadata": {},
   "outputs": [
    {
     "name": "stdout",
     "output_type": "stream",
     "text": [
      "{'roses': 46, 'lillies': 7, 'Tulips': 57}\n",
      "{'roses': 67, 'lillies': 7, 'Tulips': 57}\n"
     ]
    }
   ],
   "source": [
    "# Adding a new key/value\n",
    "\n",
    "flowers_dict['Tulips']=57;\n",
    "print(flowers_dict)\n",
    "\n",
    "# Changing the value \n",
    "\n",
    "flowers_dict['roses'] = 67\n",
    "\n",
    "print(flowers_dict)"
   ]
  },
  {
   "cell_type": "markdown",
   "metadata": {},
   "source": [
    "## Deleting entries using keys"
   ]
  },
  {
   "cell_type": "code",
   "execution_count": 4,
   "metadata": {},
   "outputs": [
    {
     "name": "stdout",
     "output_type": "stream",
     "text": [
      "{'roses': 46, 'lillies': 7}\n"
     ]
    }
   ],
   "source": [
    "del flowers_dict['Tulips']\n",
    "print(flowers_dict)\n",
    "\n"
   ]
  },
  {
   "cell_type": "markdown",
   "metadata": {},
   "source": [
    "## Membership"
   ]
  },
  {
   "cell_type": "code",
   "execution_count": 14,
   "metadata": {},
   "outputs": [
    {
     "data": {
      "text/plain": [
       "True"
      ]
     },
     "execution_count": 14,
     "metadata": {},
     "output_type": "execute_result"
    }
   ],
   "source": [
    "'roses' in flowers_dict # can only index by key"
   ]
  }
 ],
 "metadata": {
  "kernelspec": {
   "display_name": "Python 3",
   "language": "python",
   "name": "python3"
  },
  "language_info": {
   "codemirror_mode": {
    "name": "ipython",
    "version": 3
   },
   "file_extension": ".py",
   "mimetype": "text/x-python",
   "name": "python",
   "nbconvert_exporter": "python",
   "pygments_lexer": "ipython3",
   "version": "3.8.3"
  }
 },
 "nbformat": 4,
 "nbformat_minor": 1
}
