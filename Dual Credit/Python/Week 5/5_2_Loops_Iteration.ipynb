{
 "cells": [
  {
   "cell_type": "markdown",
   "metadata": {},
   "source": [
    "## Looping Constructs - while and for\n",
    "\n",
    "A loop repeat and action over and over again.\n",
    "\n",
    "`while` statement provides a way to code general loops\n",
    "\n",
    "`for` statement is meant to step through items in a sequence (Lists) or other iterable object."
   ]
  },
  {
   "cell_type": "markdown",
   "metadata": {},
   "source": [
    "## while loops\n",
    "\n",
    "A basic `while` loop consists of the following:\n",
    "\n",
    "A header line with a test expression:\n",
    "\n",
    "`while True`\n",
    "\n",
    "An indented statement:\n",
    "   \n",
    " `print(xyz)`"
   ]
  },
  {
   "cell_type": "code",
   "execution_count": null,
   "metadata": {},
   "outputs": [],
   "source": [
    "while True:  # Can also use while 1. This always tests True\n",
    "    my_name = input(\"Please enter your name: \")\n",
    "    if my_name != '':       #Checking for name not being an empty string\n",
    "        print('welcome', my_name)\n",
    "        \n",
    "# This loop will keep running so you have to exit using Kernel - Interrupt.\n",
    "# If you are running in IDLE or other IDE, then use Ctrl + c"
   ]
  },
  {
   "cell_type": "code",
   "execution_count": null,
   "metadata": {},
   "outputs": [],
   "source": [
    "# In this the loop exists when the condition is no longer True.\n",
    "my_string = 'python'\n",
    "\n",
    "while my_string:\n",
    "    print(my_string, end=' ') # The end =' ' adds a space between each print\n",
    "    my_string = my_string[1:]"
   ]
  },
  {
   "cell_type": "markdown",
   "metadata": {},
   "source": [
    "## Additional loop statements\n",
    "\n",
    "`break` - Exits the closest loop\n",
    "\n",
    "`continue` - Goes to the top of the closest loop. Should be used sparingly, since it affects readability.\n",
    "\n",
    "`pass` - Empty placeholder - does nothing. `pass` isn't specifc to loops, it can be used in functions/classes to be a placeholder\n",
    "\n",
    "`else` - Runs only if the loop exited normally."
   ]
  },
  {
   "cell_type": "code",
   "execution_count": null,
   "metadata": {},
   "outputs": [],
   "source": [
    "while True: \n",
    "    my_name = input(\"Please enter your name: \")\n",
    "    if my_name == '':       #Checking for empty string\n",
    "        break # breaks the loop if you do not enter a name\n",
    "    else:\n",
    "        print('Welcome', my_name) # The else statement is run if a name is entered. \n",
    "        \n",
    "# This loop exit when you don't type anything"
   ]
  },
  {
   "cell_type": "code",
   "execution_count": null,
   "metadata": {},
   "outputs": [],
   "source": [
    "# How would you rewrite this to get user input? \n",
    "# How would you rewrite this without continue? \n",
    "my_num = 20\n",
    "\n",
    "while my_num:\n",
    "    my_num = my_num-1\n",
    "    if my_num % 2 != 0: continue # Do not print if the remainder is not 0, meaning it is an odd number\n",
    "    print(my_num) # Since there is continue, do not indent"
   ]
  },
  {
   "cell_type": "markdown",
   "metadata": {},
   "source": [
    "## for loops\n",
    "\n",
    "A basic Python `for` loops begins with a header line that specifies a target, indented statements \n",
    "\n",
    "`for target in object:\n",
    "    statements`"
   ]
  },
  {
   "cell_type": "code",
   "execution_count": null,
   "metadata": {},
   "outputs": [],
   "source": [
    "# Using element method\n",
    "flowers = ['roses', 'lillies', 'daisies', 'lilacs']\n",
    "for flower in flowers: # The word flower is arbitrary. You can use anything, but make sure it is readable.\n",
    "    print(flower)"
   ]
  },
  {
   "cell_type": "code",
   "execution_count": null,
   "metadata": {},
   "outputs": [],
   "source": [
    "# using index method\n",
    "my_string = 'python'\n",
    "\n",
    "for i in range(len(my_string)):\n",
    "    print(my_string[i])"
   ]
  },
  {
   "cell_type": "code",
   "execution_count": null,
   "metadata": {},
   "outputs": [],
   "source": [
    "for i in range(0,10,2):\n",
    "    print(i)"
   ]
  },
  {
   "cell_type": "code",
   "execution_count": null,
   "metadata": {},
   "outputs": [],
   "source": [
    "#Parallel iteration\n",
    "\n",
    "roses = ['floribunda', 'hybrid tea']\n",
    "variety =['solstice','wildfire']\n",
    "num_flowers = ['30', '42']\n",
    "\n",
    "for f in range(len(roses)):\n",
    "    print(roses[f], 'is a', variety[f], 'and num', num_flowers[f])"
   ]
  },
  {
   "cell_type": "code",
   "execution_count": null,
   "metadata": {},
   "outputs": [],
   "source": [
    "for r, v in zip(roses, variety):\n",
    "    print(r, 'is a',v)"
   ]
  },
  {
   "cell_type": "code",
   "execution_count": null,
   "metadata": {},
   "outputs": [],
   "source": [
    "#Numbered Iteration\n",
    "\n",
    "xs = range(1,6)\n",
    "total = 0\n",
    "for x in xs:\n",
    "    total = total + 1\n",
    "    print(total)   "
   ]
  },
  {
   "cell_type": "code",
   "execution_count": null,
   "metadata": {},
   "outputs": [],
   "source": [
    "# Numbered iteration with a conditional \n",
    "xnum = [34.6, 38.8, 45.9, 23.2]\n",
    "\n",
    "counter = 0 \n",
    "for x in xnum:\n",
    "    if x >=25 and x <=40:\n",
    "        counter+=1\n",
    "        print(x)  "
   ]
  },
  {
   "cell_type": "code",
   "execution_count": 20,
   "metadata": {},
   "outputs": [
    {
     "name": "stdout",
     "output_type": "stream",
     "text": [
      "[34.6, 38.8, 45.9]\n"
     ]
    }
   ],
   "source": [
    "# Numbered iteration where it returns a list. \n",
    "# Pay close attention to where the print statements are located and see what prints\n",
    "xnum = [34.6, 38.8, 45.9, 23.2]\n",
    "\n",
    "my_list= [] \n",
    "for x in xnum:\n",
    "    if x >=25 and x <=50:\n",
    "        my_list.append(x)\n",
    "        #print(my_list) # This prints after running the conditional\n",
    "    #print(my_list) # This prints after the for loop\n",
    "print(my_list) # This prints after the loop is run, so only once."
   ]
  },
  {
   "cell_type": "code",
   "execution_count": null,
   "metadata": {},
   "outputs": [],
   "source": [
    "from math import sqrt\n",
    "for n in range(64, 0, -1): #-1 is because we are decrementing\n",
    "    print(sqrt(n))\n",
    "    break # If you don't break it will keep stepping through until it reaches 0.   "
   ]
  }
 ],
 "metadata": {
  "kernelspec": {
   "display_name": "Python 3",
   "language": "python",
   "name": "python3"
  },
  "language_info": {
   "codemirror_mode": {
    "name": "ipython",
    "version": 3
   },
   "file_extension": ".py",
   "mimetype": "text/x-python",
   "name": "python",
   "nbconvert_exporter": "python",
   "pygments_lexer": "ipython3",
   "version": "3.8.3"
  }
 },
 "nbformat": 4,
 "nbformat_minor": 1
}
