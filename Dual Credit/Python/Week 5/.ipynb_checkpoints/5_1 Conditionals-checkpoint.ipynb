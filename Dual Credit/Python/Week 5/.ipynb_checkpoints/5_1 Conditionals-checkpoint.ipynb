{
 "cells": [
  {
   "cell_type": "markdown",
   "metadata": {},
   "source": [
    "# Conditional Selection Statements - if/elif/else\n",
    "\n",
    "All compound statements in python follow this model.\n",
    "\n",
    "* Colon ( : ) separates a header line from the nested block of code\n",
    "* Nested block of code is delimited via indentation\n",
    "\n",
    "For example,\n",
    "\n",
    "Header line:\n",
    "    Nested block of code"
   ]
  },
  {
   "cell_type": "markdown",
   "metadata": {},
   "source": [
    "## Conditional execution - if statement "
   ]
  },
  {
   "cell_type": "code",
   "execution_count": 14,
   "metadata": {},
   "outputs": [
    {
     "name": "stdout",
     "output_type": "stream",
     "text": [
      "x is a postive number\n"
     ]
    }
   ],
   "source": [
    "# This condition is true, so it will print.\n",
    "x = 2\n",
    "\n",
    "if x > 0:\n",
    "    print('x is a postive number')"
   ]
  },
  {
   "cell_type": "code",
   "execution_count": 21,
   "metadata": {},
   "outputs": [],
   "source": [
    "# This condition is False so it will not print \n",
    "y = 6 \n",
    "\n",
    "if x > y:\n",
    "    print('y is a postive number')"
   ]
  },
  {
   "cell_type": "markdown",
   "metadata": {},
   "source": [
    "## Another conditional execution - if/else statement"
   ]
  },
  {
   "cell_type": "code",
   "execution_count": 35,
   "metadata": {},
   "outputs": [
    {
     "name": "stdout",
     "output_type": "stream",
     "text": [
      "x is even\n"
     ]
    }
   ],
   "source": [
    "if x % 2 == 0:\n",
    "    print('x is even')\n",
    "else:\n",
    "    print('x is odd')"
   ]
  },
  {
   "cell_type": "markdown",
   "metadata": {},
   "source": [
    "## Multiway branching or chanined conditionals\n",
    "\n",
    "* Tests for different conditions. \n",
    "\n",
    "* else condition is true if none of the other conditions match\n",
    "\n",
    "\n",
    "Python unlike other languages doesn't \n",
    "have a switch or case statement to select from multiple selections. \n",
    "\n",
    "Either use multiway if/elif tests or use lists/dictionary search functions. \n"
   ]
  },
  {
   "cell_type": "code",
   "execution_count": 2,
   "metadata": {},
   "outputs": [
    {
     "name": "stdout",
     "output_type": "stream",
     "text": [
      "Correct Language\n"
     ]
    }
   ],
   "source": [
    "my_string = 'python'\n",
    "\n",
    "if my_string == 'java':\n",
    "    print(\"Wrong language\")\n",
    "elif my_string == 'javascript':\n",
    "    print(\"not web\")\n",
    "elif my_string == 'python':\n",
    "    print(\"Correct Language\")    \n",
    "else:\n",
    "    print('Run'*3)"
   ]
  },
  {
   "cell_type": "code",
   "execution_count": 6,
   "metadata": {},
   "outputs": [
    {
     "name": "stdout",
     "output_type": "stream",
     "text": [
      "Roses\n"
     ]
    }
   ],
   "source": [
    "# List indexing for multi selection\n",
    "my_fav = 2\n",
    "\n",
    "print(['Tulips', 'Daisies', 'Roses', 'Daffodils'][my_fav])"
   ]
  },
  {
   "cell_type": "code",
   "execution_count": 15,
   "metadata": {},
   "outputs": [
    {
     "name": "stdout",
     "output_type": "stream",
     "text": [
      "Roses\n"
     ]
    }
   ],
   "source": [
    "# Method 2 - List indexing for multi selection \n",
    "flowers = ['Tulips', 'Daisies', 'Roses', 'Daffodils']\n",
    "\n",
    "print(flowers[my_fav])"
   ]
  },
  {
   "cell_type": "code",
   "execution_count": 12,
   "metadata": {},
   "outputs": [
    {
     "data": {
      "text/plain": [
       "'Daisies'"
      ]
     },
     "execution_count": 12,
     "metadata": {},
     "output_type": "execute_result"
    }
   ],
   "source": [
    "# using a random function. This is only if you want to select any one of the flowers. \n",
    "# If you want a specfic choice you have to do mutiway branching\n",
    "\n",
    "import random as rd\n",
    "\n",
    "rd.choice(flowers)"
   ]
  },
  {
   "cell_type": "markdown",
   "metadata": {},
   "source": [
    "## Nested Conditionals\n",
    "\n",
    "A conditional can be nested within the other."
   ]
  },
  {
   "cell_type": "code",
   "execution_count": 5,
   "metadata": {},
   "outputs": [
    {
     "name": "stdout",
     "output_type": "stream",
     "text": [
      "Correct Language\n"
     ]
    }
   ],
   "source": [
    "if my_string == 'java':\n",
    "    print(\"Wrong language\")\n",
    "else:\n",
    "    if my_string == 'python':\n",
    "        print(\"Correct Language\")\n",
    "    else:\n",
    "        print('Run'*3)\n",
    "    "
   ]
  },
  {
   "cell_type": "code",
   "execution_count": 7,
   "metadata": {},
   "outputs": [
    {
     "name": "stdout",
     "output_type": "stream",
     "text": [
      "Postive number\n"
     ]
    }
   ],
   "source": [
    "# Another nested conditional \n",
    "a = 23\n",
    "\n",
    "if a > 0: # Testing for a general condition\n",
    "    if a >=20:\n",
    "        print(\"Postive number\")\n",
    "else:\n",
    "    print(\"no negative number\")\n",
    "    "
   ]
  },
  {
   "cell_type": "markdown",
   "metadata": {},
   "source": [
    "## Logical Operators\n",
    "\n",
    "In addition to the operators covered in Jupyter Notebook 2_1, there are 3 Logical operators in python, which evaluates to either True or False\n",
    "\n",
    "`and, or and not`\n",
    "\n",
    "* and is more restrictive than or. In an and condition both conditions have to be true. \n",
    "\n",
    "* In the or if the first condition is true, it will stop checking.\n",
    "\n",
    "In Python each object has a boolean value.\n",
    "\n",
    "Any non-empty object and non-zero number will return True.\n",
    "\n",
    "These elements will return False:\n",
    "1. None\n",
    "2. False\n",
    "3. 0\n",
    "4. Empty obejcts - '', [], {}, ()\n"
   ]
  },
  {
   "cell_type": "code",
   "execution_count": null,
   "metadata": {},
   "outputs": [],
   "source": [
    "# Same result above different code\n",
    "\n",
    "a = 25\n",
    "\n",
    "if a >= 0 and a <= 23:\n",
    "    print(\"Postive number\")\n",
    "else:\n",
    "    print(\"no negative number\")   "
   ]
  }
 ],
 "metadata": {
  "kernelspec": {
   "display_name": "Python 3",
   "language": "python",
   "name": "python3"
  },
  "language_info": {
   "codemirror_mode": {
    "name": "ipython",
    "version": 3
   },
   "file_extension": ".py",
   "mimetype": "text/x-python",
   "name": "python",
   "nbconvert_exporter": "python",
   "pygments_lexer": "ipython3",
   "version": "3.8.3"
  }
 },
 "nbformat": 4,
 "nbformat_minor": 1
}
