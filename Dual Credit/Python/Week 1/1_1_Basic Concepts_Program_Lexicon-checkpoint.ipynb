{
 "cells": [
  {
   "cell_type": "markdown",
   "metadata": {},
   "source": [
    "# This notebook explains the basic concepts\n",
    "\n",
    "## Even if you don't understand all this, please download the notebook and practice. It will become clearer as you progress through class. \n"
   ]
  },
  {
   "cell_type": "markdown",
   "metadata": {},
   "source": [
    "## Parts of a Program\n",
    "------------------------------\n",
    " \n",
    "Each program usually contains the following.Though the syntax varies between languages there are some things that are common across all languages. \n",
    "\n",
    "1. Input: From a keyboard, file, network etc.\n",
    "\n",
    "2. Output: Usually returns some value displayed on the keyboard, sent to file etc.\n",
    "\n",
    "3. Evaluation: Could be a math calculation or use any other data types that we will learn in this class. \n",
    "\n",
    "4. Conditional Exectution: Execute code based on conditions\n",
    "\n",
    "5. Iteration: Repeat a set of instructions\n"
   ]
  },
  {
   "cell_type": "markdown",
   "metadata": {},
   "source": [
    "## Python Program Hierarchy\n",
    "--------------------------------------\n",
    "### Program\n",
    "\n",
    "* The larger Python program is made up of a set of modules.\n",
    "\n",
    "### Modules\n",
    "\n",
    "* A module contains a set of python commands\n",
    "* Is stored as a file and imported.\n",
    "* Python contains a lot of built in modules as part of standrad library"
   ]
  },
  {
   "cell_type": "markdown",
   "metadata": {},
   "source": [
    "### Statements \n",
    "* An instruction that the Python interpreter can execute. \n",
    "* E.g., assignment statement, while statements, for statements, if statements, and import statements. \n",
    "\n",
    "#### Assignment statement \n",
    "\n",
    "**d is the name you have given to the variable and 5 is the value**\n",
    "Naming variables: "
   ]
  },
  {
   "cell_type": "code",
   "execution_count": 5,
   "metadata": {},
   "outputs": [
    {
     "data": {
      "text/plain": [
       "5"
      ]
     },
     "execution_count": 5,
     "metadata": {},
     "output_type": "execute_result"
    }
   ],
   "source": [
    "# change the name of the variable and the value and see what happens. \n",
    "# Do not forget to change the variable name in the print statement\n",
    "d = 5\n",
    "print(d) "
   ]
  },
  {
   "cell_type": "markdown",
   "metadata": {},
   "source": [
    "### Expressions\n",
    "\n",
    "* An expression is a combination of values, variables, operators, and calls to functions. \n",
    "* Expressions will be evaluated.\n",
    "* A value will be returned"
   ]
  },
  {
   "cell_type": "code",
   "execution_count": 2,
   "metadata": {},
   "outputs": [
    {
     "data": {
      "text/plain": [
       "3"
      ]
     },
     "execution_count": 2,
     "metadata": {},
     "output_type": "execute_result"
    }
   ],
   "source": [
    "# the result of an expression is typically another value\n",
    "(1 + (1)) + 1"
   ]
  },
  {
   "cell_type": "code",
   "execution_count": 5,
   "metadata": {},
   "outputs": [
    {
     "data": {
      "text/plain": [
       "True"
      ]
     },
     "execution_count": 5,
     "metadata": {},
     "output_type": "execute_result"
    }
   ],
   "source": [
    "# a special value is \"None\" which usually indicates information that is not present\n",
    "# difference between statement and expression\n",
    "\n",
    "a = None #Statement\n",
    "a is None # expression"
   ]
  },
  {
   "cell_type": "markdown",
   "metadata": {},
   "source": [
    "## Python Lexical Categories \n",
    "-------------------------------------\n",
    "\n",
    "**Python interpreter reads code as a sequence of characters and translates them into a sequence of tokens**\n",
    "\n",
    "**Python characters uses unicode UTF-8 notation**\n",
    "\n",
    "https://docs.python.org/3/reference/lexical_analysis.html\n",
    "\n",
    "### Whitespace\n",
    "\n",
    "* Whitesapce is ignored for statements and expressions\n",
    "* Blank lines are considered whitesapces and are ignored\n",
    "\n",
    "### Indentation\n",
    "* Python treats indentation in a unique way.\n",
    "* It treats it for grouping.\n",
    "* Requires consistency (The program has to have the same number of indentation spaces, 4 is recommended)\n",
    "\n",
    "### Formatting \n",
    "* NEWLINE ( \\n ) is the standard line separator (one statement per line)\n",
    "* Backslash ( \\ ) continues a line\n",
    "* Statements can be enclosed within [], {}, or () brackets\n",
    "* Semicolon ( ; ) joins two statements on a line\n",
    "\n",
    "### Identifier \n",
    "\n",
    "**Names that the programmer defines for python objects**\n",
    "\n",
    "* Everyname can only begin a letter or underscore. The objects that start with underscore has special meaning.\n",
    "* Names are case sensitive\n",
    "* Multiple word names are linked by underscore\n",
    "* After the first letter, it can contain letters, numbers and underscore\n",
    "* Cannot use keywords, delimiters, punctuation and operators\n",
    "\n",
    "### Operators \n",
    "\n",
    "**Symbols that operate on data and produce results**\n",
    "\n",
    "### Delimiters \n",
    "**Grouping, punctuation, and assignment/binding symbols**\n",
    "\n",
    "### Literals \n",
    "\n",
    "**A literal is a notation for representing fixed value.  Each type of literal has a few bulit-in types in python. Some Examples**\n",
    "\n",
    "* Numeric literal: int, float, imaginary\n",
    "* logical literal: bool\n",
    "* text literal: str\n",
    "* special literal: None\n",
    "\n",
    "https://docs.python.org/3/library/stdtypes.html\n",
    "\n",
    "\n",
    "### Keywords\n",
    "\n",
    "* Keywords cannot be used as ordinary identifiers. \n",
    "* They must be spelled exactly as written here\n",
    "* Examples: False, await, else, import,pass\n",
    "\n",
    "\n",
    "### Comments\n",
    "\n",
    "* Single line comment - Use #\n",
    "* Multi-Line comments - Enclosed in ''' ''' or \"\"\" \"\"\" \n",
    "* Comments enhance readability.\n",
    "* Good comments will clarify the intent of the code."
   ]
  },
  {
   "cell_type": "code",
   "execution_count": 6,
   "metadata": {},
   "outputs": [],
   "source": [
    "# Whitespace\n",
    "x=4\n",
    "\n",
    "y=x+5\n",
    "\n",
    "a = 7\n",
    "\n",
    "c = a + 7"
   ]
  },
  {
   "cell_type": "code",
   "execution_count": 7,
   "metadata": {},
   "outputs": [
    {
     "name": "stdout",
     "output_type": "stream",
     "text": [
      "Hello World \n",
      "Good Morning\n"
     ]
    }
   ],
   "source": [
    "# NEWLINE ( \\n ) is the standard line separator (one statement per line)\n",
    "\n",
    "print(\"Hello World \\nGood Morning\")"
   ]
  },
  {
   "cell_type": "code",
   "execution_count": 8,
   "metadata": {},
   "outputs": [
    {
     "name": "stdout",
     "output_type": "stream",
     "text": [
      "1 0\n"
     ]
    }
   ],
   "source": [
    "# Backslash ( \\ ) continues a line\n",
    "x=1 \n",
    "y =0\n",
    "if (x == 1) and \\\n",
    "   (y == 0):\n",
    "      print(x, y)   "
   ]
  },
  {
   "cell_type": "code",
   "execution_count": 9,
   "metadata": {},
   "outputs": [
    {
     "name": "stdout",
     "output_type": "stream",
     "text": [
      "foo\n"
     ]
    }
   ],
   "source": [
    "# Semicolon ( ; ) joins two statements on a line\n",
    "\n",
    "import sys; x = 'foo'; sys.stdout.write(x + '\\n')\n"
   ]
  },
  {
   "cell_type": "code",
   "execution_count": 10,
   "metadata": {},
   "outputs": [
    {
     "data": {
      "text/plain": [
       "['Monday', 'Tuesday', 'Wednesday', 'Thursday', 'Friday']"
      ]
     },
     "execution_count": 10,
     "metadata": {},
     "output_type": "execute_result"
    }
   ],
   "source": [
    "# Grouping\n",
    "days = ['Monday', 'Tuesday', 'Wednesday', \n",
    "        'Thursday', 'Friday']\n",
    "days"
   ]
  },
  {
   "cell_type": "code",
   "execution_count": 11,
   "metadata": {},
   "outputs": [
    {
     "name": "stdout",
     "output_type": "stream",
     "text": [
      "Your variable is 5\n"
     ]
    }
   ],
   "source": [
    "#punctuation\n",
    "\n",
    "x = 5 \n",
    "\n",
    "if x is 5:\n",
    "    print(\"Your variable is 5\")"
   ]
  },
  {
   "cell_type": "code",
   "execution_count": 12,
   "metadata": {},
   "outputs": [
    {
     "name": "stdout",
     "output_type": "stream",
     "text": [
      "<class 'int'>\n",
      "<class 'float'>\n"
     ]
    }
   ],
   "source": [
    "#numeric literals\n",
    "\n",
    "x = 5\n",
    "print(type(x))\n",
    "\n",
    "y = 2.5\n",
    "print(type(y))"
   ]
  },
  {
   "cell_type": "code",
   "execution_count": 13,
   "metadata": {},
   "outputs": [
    {
     "data": {
      "text/plain": [
       "str"
      ]
     },
     "execution_count": 13,
     "metadata": {},
     "output_type": "execute_result"
    }
   ],
   "source": [
    "#text literal \n",
    "my_class = 'cis1250'\n",
    "type(my_class)"
   ]
  },
  {
   "cell_type": "markdown",
   "metadata": {},
   "source": [
    "## The Zen of Python¶\n",
    "\n",
    "Python is known for its simplicity and the ease of learning for beginner programmers."
   ]
  },
  {
   "cell_type": "code",
   "execution_count": 14,
   "metadata": {},
   "outputs": [
    {
     "name": "stdout",
     "output_type": "stream",
     "text": [
      "The Zen of Python, by Tim Peters\n",
      "\n",
      "Beautiful is better than ugly.\n",
      "Explicit is better than implicit.\n",
      "Simple is better than complex.\n",
      "Complex is better than complicated.\n",
      "Flat is better than nested.\n",
      "Sparse is better than dense.\n",
      "Readability counts.\n",
      "Special cases aren't special enough to break the rules.\n",
      "Although practicality beats purity.\n",
      "Errors should never pass silently.\n",
      "Unless explicitly silenced.\n",
      "In the face of ambiguity, refuse the temptation to guess.\n",
      "There should be one-- and preferably only one --obvious way to do it.\n",
      "Although that way may not be obvious at first unless you're Dutch.\n",
      "Now is better than never.\n",
      "Although never is often better than *right* now.\n",
      "If the implementation is hard to explain, it's a bad idea.\n",
      "If the implementation is easy to explain, it may be a good idea.\n",
      "Namespaces are one honking great idea -- let's do more of those!\n"
     ]
    }
   ],
   "source": [
    "import this"
   ]
  },
  {
   "cell_type": "markdown",
   "metadata": {},
   "source": [
    "## Programming Style\n",
    "-----------------------------\n",
    "\n",
    "**“Programs must be written for people to read, and only incidentally for machines to execute.”**\n",
    "\n",
    "        ― Harold Abelson, Structure and Interpretation of Computer Programs\n",
    "        \n",
    "**Python Style Guide is documented here**\n",
    "\n",
    "https://pep8.org/"
   ]
  }
 ],
 "metadata": {
  "kernelspec": {
   "display_name": "Python 3",
   "language": "python",
   "name": "python3"
  },
  "language_info": {
   "codemirror_mode": {
    "name": "ipython",
    "version": 3
   },
   "file_extension": ".py",
   "mimetype": "text/x-python",
   "name": "python",
   "nbconvert_exporter": "python",
   "pygments_lexer": "ipython3",
   "version": "3.8.3"
  }
 },
 "nbformat": 4,
 "nbformat_minor": 1
}
