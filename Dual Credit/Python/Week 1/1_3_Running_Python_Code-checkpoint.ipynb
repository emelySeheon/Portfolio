{
 "cells": [
  {
   "cell_type": "markdown",
   "metadata": {},
   "source": [
    "# Writing and Running Python Code\n",
    "\n",
    "Python is an interpreted langauge and can be edited and run without compiling the code. Depending on what you are trying to do there are many ways to write and run Python programs"
   ]
  },
  {
   "cell_type": "markdown",
   "metadata": {},
   "source": [
    "## Writing Python Programs \n",
    "\n",
    "In its simplest form, a python program is a text file containing python code. Since it is a text file, it can be written in a simple text editor (notepad, VIM, gedit), simple IDE (IDLE) or a full featured IDE (pycharm, Spyder etc.). \n",
    "\n",
    "We will use IDLE in class. which comes installed as part of the python installation. "
   ]
  },
  {
   "cell_type": "markdown",
   "metadata": {},
   "source": [
    "There are 3 primary ways to run Python code:\n",
    "1. Python interpreter\n",
    "\n",
    "2. Jupyter notebook\n",
    "\n",
    "3. As a Python Script "
   ]
  },
  {
   "attachments": {
    "Python_IDLE.png": {
     "image/png": "[encoded data removed]"
    },
    "python_command_prompt.png": {
     "image/png": "[encoded data removed]"
    }
   },
   "cell_type": "markdown",
   "metadata": {},
   "source": [
    "## Python Interpreter\n",
    "\n",
    "The most basic way to execute Python code is line by line within the Python Interpreter\n",
    "The Python interpreter can be started by typing ``python`` at the command prompt.\n",
    "\n",
    "The interpreter makes it very easy to try out small snippets of Python code.\n",
    "\n",
    "**Linux**\n",
    "```\n",
    "siyer@caniv2:~/cis1250$ python\n",
    "Python 3.6.5 |Anaconda, Inc.| (default, Mar 29 2018, 18:21:58) \n",
    "[GCC 7.2.0] on linux\n",
    "Type \"help\", \"copyright\", \"credits\" or \"license\" for more information.\n",
    ">>> print(\"welcome to cis1250\")\n",
    "welcome to cis1250\n",
    ">>> \n",
    "```\n",
    "\n",
    "**Windows. You can type python in the windows command prompt (if it is mapped) or click on the python icon from the applications list** \n",
    "\n",
    "![python_command_prompt.png](attachment:python_command_prompt.png)\n",
    "\n",
    "**Python IDLE (and all IDEs) has a built in interpreter, as shown in the example below**\n",
    "\n",
    "\n",
    "![Python_IDLE.png](attachment:Python_IDLE.png)\n"
   ]
  },
  {
   "cell_type": "markdown",
   "metadata": {},
   "source": [
    "## Jupyter Notebook \n",
    "\n",
    "The Jupyter Notebook is a web application that allows you to create documents that contain executable code, formulas and equations, data visualizations, and more.\n",
    "\n",
    "When you start the notebook, It will run the Jupyter Notebook on a local port, such as http://localhost:8888 (or some other port). The notebook will list out the contents of your computer in a directory format. You can create new \"notebooks\" by clicking \"New\" and selecting the version of Python installed. \n",
    "\n",
    "http://jupyter.org/index.html\n",
    "\n",
    "https://jupyter-notebook-beginner-guide.readthedocs.io/en/latest/execute.html\n",
    "\n",
    "https://datawookie.netlify.com/blog/2017/06/setting-up-jupyter-with-python-3-on-ubuntu/\n"
   ]
  },
  {
   "cell_type": "markdown",
   "metadata": {},
   "source": [
    "## Python scripts \n",
    "\n",
    "Running Python in the interactive mode is useful, however to run long programs we will need to run it as a script. \n",
    "By convention, Python scripts are saved in files with a *.py* extension. \n",
    "\n",
    "``` python\n",
    "# Example file: cis1250.py\n",
    "\n",
    "# This is a first program in Python\n",
    "\n",
    "print(\"Welcome to Python Programming Class\")\n",
    "\n",
    "print(\"I will show you how to add numbers\")\n",
    "\n",
    "print(4+5)\n",
    "\n",
    "```\n",
    "To run this file, make sure it is in the current directory and type ``python`` *``filename``* at the command prompt:\n",
    "```\n",
    "siyer@caniv2:~/cis1250$ python cis1250.py \n",
    "Welcome to Python Programming Class\n",
    "I will show you how to add numbers\n",
    "9\n",
    "```"
   ]
  },
  {
   "cell_type": "markdown",
   "metadata": {},
   "source": [
    "## Getting help\n",
    "The Python 3 Standard Library is the reference documentation of all libraries included in Python as well as built-in functions and data types."
   ]
  },
  {
   "cell_type": "code",
   "execution_count": null,
   "metadata": {},
   "outputs": [],
   "source": [
    "help(len)          # help on built-in function\n",
    "help(list.extend)  # help on list function"
   ]
  },
  {
   "cell_type": "code",
   "execution_count": null,
   "metadata": {},
   "outputs": [],
   "source": [
    "# help within jupyter\n",
    "len?"
   ]
  },
  {
   "cell_type": "code",
   "execution_count": 2,
   "metadata": {},
   "outputs": [],
   "source": [
    "# Tab completion. You can hit the tab key to get a list of methods for any object.\n",
    "\n",
    "import math\n",
    "\n",
    "# math.<hit the tab key here to get a list of methods>"
   ]
  }
 ],
 "metadata": {
  "kernelspec": {
   "display_name": "Python 3",
   "language": "python",
   "name": "python3"
  },
  "language_info": {
   "codemirror_mode": {
    "name": "ipython",
    "version": 3
   },
   "file_extension": ".py",
   "mimetype": "text/x-python",
   "name": "python",
   "nbconvert_exporter": "python",
   "pygments_lexer": "ipython3",
   "version": "3.8.3"
  }
 },
 "nbformat": 4,
 "nbformat_minor": 2
}
