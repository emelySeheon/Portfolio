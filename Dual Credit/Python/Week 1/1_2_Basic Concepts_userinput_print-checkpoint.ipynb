{
 "cells": [
  {
   "cell_type": "markdown",
   "metadata": {},
   "source": [
    "# This notebook explains some additional basic python language concepts"
   ]
  },
  {
   "cell_type": "markdown",
   "metadata": {},
   "source": [
    "## Objects and Types \n",
    "\n",
    "In python everything is an object. An object in python has 3 characteristics\n",
    "\n",
    "* An id number is how the object is stored in memory\n",
    "* Zero or more names\n",
    "* Attributes"
   ]
  },
  {
   "cell_type": "code",
   "execution_count": 1,
   "metadata": {},
   "outputs": [
    {
     "data": {
      "text/plain": [
       "5"
      ]
     },
     "execution_count": 1,
     "metadata": {},
     "output_type": "execute_result"
    }
   ],
   "source": [
    "# define a literal 5\n",
    "\n",
    "5"
   ]
  },
  {
   "cell_type": "code",
   "execution_count": 2,
   "metadata": {},
   "outputs": [
    {
     "data": {
      "text/plain": [
       "94282274708128"
      ]
     },
     "execution_count": 2,
     "metadata": {},
     "output_type": "execute_result"
    }
   ],
   "source": [
    "# get the id of the object using the id function\n",
    "\n",
    "id(5) "
   ]
  },
  {
   "cell_type": "markdown",
   "metadata": {},
   "source": [
    "### Variables\n",
    "\n",
    "* Varaible is a type of \"object\" \n",
    "\n",
    "* Variables are names assigned to values\n",
    "\n",
    "* Variables are created by assignment and do not need to be declared\n",
    "\n",
    "* Variables do not have types in python. It is dynamically typed (it figures out the type based on the value)"
   ]
  },
  {
   "cell_type": "code",
   "execution_count": 3,
   "metadata": {},
   "outputs": [
    {
     "name": "stdout",
     "output_type": "stream",
     "text": [
      "5\n",
      "94282274708128\n",
      "<class 'int'>\n"
     ]
    }
   ],
   "source": [
    "d = 5\n",
    "\n",
    "print(d) \n",
    "\n",
    "print(id(d))\n",
    "\n",
    "print(type(d))\n"
   ]
  },
  {
   "cell_type": "code",
   "execution_count": 4,
   "metadata": {},
   "outputs": [
    {
     "name": "stdout",
     "output_type": "stream",
     "text": [
      "fish\n",
      "140011763304464\n",
      "False\n"
     ]
    }
   ],
   "source": [
    "# variable name 'd' can be reassigned to fish \n",
    "d = 'fish'\n",
    "print(d)\n",
    "\n",
    "print(id(d)) # Note the new id number\n",
    "\n",
    "print(isinstance(d, int)) # checking if the value is of particular type"
   ]
  },
  {
   "cell_type": "code",
   "execution_count": 5,
   "metadata": {},
   "outputs": [
    {
     "name": "stdout",
     "output_type": "stream",
     "text": [
      "1 2 3\n"
     ]
    }
   ],
   "source": [
    "# multiple assignments\n",
    "a, b, c = 1, 2, 3\n",
    "\n",
    "print(a,b,c)"
   ]
  },
  {
   "cell_type": "markdown",
   "metadata": {},
   "source": [
    "### User input"
   ]
  },
  {
   "cell_type": "code",
   "execution_count": 6,
   "metadata": {},
   "outputs": [
    {
     "name": "stdout",
     "output_type": "stream",
     "text": [
      "Please enter your name\n",
      "srividya\n"
     ]
    },
    {
     "data": {
      "text/plain": [
       "'srividya'"
      ]
     },
     "execution_count": 6,
     "metadata": {},
     "output_type": "execute_result"
    }
   ],
   "source": [
    "# input returns string\n",
    "\n",
    "input(\"Please enter your name\\n\")"
   ]
  },
  {
   "cell_type": "code",
   "execution_count": 7,
   "metadata": {},
   "outputs": [
    {
     "name": "stdout",
     "output_type": "stream",
     "text": [
      "Please enter a number:78\n"
     ]
    },
    {
     "data": {
      "text/plain": [
       "78"
      ]
     },
     "execution_count": 7,
     "metadata": {},
     "output_type": "execute_result"
    }
   ],
   "source": [
    "# If you use input to enter an integer or a float you have to do type conversion.\n",
    "int(input(\"Please enter a number:\"))"
   ]
  },
  {
   "cell_type": "markdown",
   "metadata": {},
   "source": [
    "### Print statements\n",
    "\n",
    "print is a statement in python 2.x and a function in 3.x. \n",
    "\n",
    "**printing string in 2.x**\n",
    "\n",
    "print \"Hello World\"\n",
    "\n",
    "**Printing variables in 2.x**\n",
    "\n",
    "x=2\n",
    "cnm_course = \"cis1250\"\n",
    "\n",
    "print x, cnm_course"
   ]
  },
  {
   "cell_type": "code",
   "execution_count": 8,
   "metadata": {},
   "outputs": [
    {
     "name": "stdout",
     "output_type": "stream",
     "text": [
      "Hello World\n"
     ]
    }
   ],
   "source": [
    "# Printing a string \n",
    "\n",
    "print(\"Hello World\")"
   ]
  },
  {
   "cell_type": "code",
   "execution_count": 9,
   "metadata": {},
   "outputs": [
    {
     "name": "stdout",
     "output_type": "stream",
     "text": [
      "2 cis1250 Python\n",
      "2 cis1250 Python\n"
     ]
    }
   ],
   "source": [
    "#printing a variable. repr dispalys an float or an integer as string.\n",
    "x=2\n",
    "cnm_course = \"cis1250\"\n",
    "\n",
    "print(x,cnm_course,\"Python\")\n",
    "\n",
    "print(repr(x) + ' ' + cnm_course + ' ' + 'Python')\n"
   ]
  },
  {
   "cell_type": "code",
   "execution_count": null,
   "metadata": {},
   "outputs": [],
   "source": []
  }
 ],
 "metadata": {
  "kernelspec": {
   "display_name": "Python 3",
   "language": "python",
   "name": "python3"
  },
  "language_info": {
   "codemirror_mode": {
    "name": "ipython",
    "version": 3
   },
   "file_extension": ".py",
   "mimetype": "text/x-python",
   "name": "python",
   "nbconvert_exporter": "python",
   "pygments_lexer": "ipython3",
   "version": "3.8.3"
  }
 },
 "nbformat": 4,
 "nbformat_minor": 1
}
