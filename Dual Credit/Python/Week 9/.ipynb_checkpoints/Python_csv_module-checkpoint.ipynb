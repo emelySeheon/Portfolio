{
 "cells": [
  {
   "cell_type": "markdown",
   "metadata": {},
   "source": [
    "#  Creating lists and dictionaries using the csv.reader module"
   ]
  },
  {
   "cell_type": "code",
   "execution_count": 4,
   "metadata": {},
   "outputs": [],
   "source": [
    "import csv\n",
    "\n",
    "csvfile = 'Stock_list.csv'\n",
    "output_file = 'my_stocks_symbols.csv'"
   ]
  },
  {
   "cell_type": "markdown",
   "metadata": {},
   "source": [
    "## Reading CSV Files "
   ]
  },
  {
   "cell_type": "code",
   "execution_count": 15,
   "metadata": {},
   "outputs": [
    {
     "name": "stdout",
     "output_type": "stream",
     "text": [
      "<class '_csv.reader'>\n"
     ]
    }
   ],
   "source": [
    "# Opening the csv file to get a file handle. \n",
    "\n",
    "with open(csvfile, 'r') as myfile_obj: # This creates the file object\n",
    "    myfile_reader = csv.reader(myfile_obj) # This creates the csv reader object\n",
    "    \n",
    "# Determining the type \n",
    "    print(type(myfile_reader))    "
   ]
  },
  {
   "cell_type": "markdown",
   "metadata": {},
   "source": [
    "## csv.reader returns a csv reader object that can be converted to a list or assigned to a string"
   ]
  },
  {
   "cell_type": "code",
   "execution_count": 51,
   "metadata": {},
   "outputs": [
    {
     "name": "stdout",
     "output_type": "stream",
     "text": [
      "['Symbol', 'Name', 'Last Trade', 'Tick', 'Day High', 'Day Low', '52Wk High', '52Wk Low']\n",
      "Symbol,Name,Last Trade,Tick,Day High,Day Low,52Wk High,52Wk Low\n",
      "['T', 'ATT', '$37.10 ', 'up', '$37.11 ', '$36.39 ', '$43.03 ', '$35.10 ']\n",
      "T,ATT,$37.10 ,up,$37.11 ,$36.39 ,$43.03 ,$35.10 \n",
      "['XOM', 'EXXON MOBIL CORP', '$80.07 ', 'down', '$80.21 ', '$79.55 ', '$93.22 ', '$76.05 ']\n",
      "XOM,EXXON MOBIL CORP,$80.07 ,down,$80.21 ,$79.55 ,$93.22 ,$76.05 \n",
      "['MDT', 'MEDTRONIC PLC', '$82.12 ', 'up', '$82.14 ', '$81.38 ', '$89.72 ', '$69.35 ']\n",
      "MDT,MEDTRONIC PLC,$82.12 ,up,$82.14 ,$81.38 ,$89.72 ,$69.35 \n",
      "['PG', 'PROCTER AND GAMBLE CO', '$93.27 ', 'down', '$93.82 ', '$92.82 ', '$94.19 ', '$81.18 ']\n",
      "PG,PROCTER AND GAMBLE CO,$93.27 ,down,$93.82 ,$92.82 ,$94.19 ,$81.18 \n",
      "['JNJ', 'JOHNSON AND JOHNSON', '$134.45 ', 'up', '$135.45 ', '$134.18 ', '$137.08 ', '$109.32 ']\n",
      "JNJ,JOHNSON AND JOHNSON,$134.45 ,up,$135.45 ,$134.18 ,$137.08 ,$109.32 \n",
      "['ECL', 'ECOLAB INC', '$131.05 ', 'up', '$131.49 ', '$130.54 ', '$134.89 ', '$110.65 ']\n",
      "ECL,ECOLAB INC,$131.05 ,up,$131.49 ,$130.54 ,$134.89 ,$110.65 \n",
      "['ABT', 'ABBOTT LABORATORIES', '$51.76 ', 'up', '$51.88 ', '$51.49 ', '$52.60 ', '$37.38 ']\n",
      "ABT,ABBOTT LABORATORIES,$51.76 ,up,$51.88 ,$51.49 ,$52.60 ,$37.38 \n",
      "['CVX', 'CHEVRON CORPORATION', '$114.63 ', 'up', '$114.91 ', '$113.63 ', '$119.00 ', '$97.68 ']\n",
      "CVX,CHEVRON CORPORATION,$114.63 ,up,$114.91 ,$113.63 ,$119.00 ,$97.68 \n",
      "['ITW', 'ILLINOIS TOOL WORKS INC', '$145.64 ', 'up', '$145.83 ', '$143.89 ', '$150.29 ', '$111.50 ']\n",
      "ITW,ILLINOIS TOOL WORKS INC,$145.64 ,up,$145.83 ,$143.89 ,$150.29 ,$111.50 \n",
      "['LOW', 'LOWES COMPANIES INC', '$77.99 ', 'down', '$78.78 ', '$77.95 ', '$86.25 ', '$64.87 ']\n",
      "LOW,LOWES COMPANIES INC,$77.99 ,down,$78.78 ,$77.95 ,$86.25 ,$64.87 \n",
      "['KO', 'COCA COLA COMPANY', '$46.18 ', 'up', '$46.36 ', '$46.00 ', '$46.98 ', '$39.88 ']\n",
      "KO,COCA COLA COMPANY,$46.18 ,up,$46.36 ,$46.00 ,$46.98 ,$39.88 \n",
      "<class 'list'>\n",
      "<class 'str'>\n"
     ]
    }
   ],
   "source": [
    "# You have to open the file every time because it automatically closes it \n",
    "with open(csvfile, 'r', newline ='') as myfile_obj:\n",
    "    myfile_reader = csv.reader(myfile_obj)\n",
    "    \n",
    "    # Printing the csv file as a list\n",
    "    for row in myfile_reader: # This loops through the reader object \n",
    "        print(row) # Prints the list\n",
    "        row_string = ','.join(row) # Assigns the list as a string\n",
    "        print(row_string)\n",
    "        \n",
    "        \n",
    "print(type(row))\n",
    "\n",
    "print(type(row_string))"
   ]
  },
  {
   "cell_type": "code",
   "execution_count": 17,
   "metadata": {},
   "outputs": [
    {
     "name": "stdout",
     "output_type": "stream",
     "text": [
      "Name\n",
      "ATT\n",
      "EXXON MOBIL CORP\n",
      "MEDTRONIC PLC\n",
      "PROCTER AND GAMBLE CO\n",
      "JOHNSON AND JOHNSON\n",
      "ECOLAB INC\n",
      "ABBOTT LABORATORIES\n",
      "CHEVRON CORPORATION\n",
      "ILLINOIS TOOL WORKS INC\n",
      "LOWES COMPANIES INC\n",
      "COCA COLA COMPANY\n"
     ]
    }
   ],
   "source": [
    "# Printing the value in column 2 for each row\n",
    "with open(csvfile, 'r') as myfile_obj:\n",
    "    myfile_reader = csv.reader(myfile_obj)\n",
    "    for row in myfile_reader:\n",
    "        print(row[1])"
   ]
  },
  {
   "cell_type": "code",
   "execution_count": 57,
   "metadata": {},
   "outputs": [
    {
     "name": "stdout",
     "output_type": "stream",
     "text": [
      "Stock List with header\n",
      "['Symbol', 'Name', 'Last Trade', 'Tick', 'Day High', 'Day Low', '52Wk High', '52Wk Low']\n",
      "['T', 'ATT', '$37.10 ', 'up', '$37.11 ', '$36.39 ', '$43.03 ', '$35.10 ']\n",
      "['XOM', 'EXXON MOBIL CORP', '$80.07 ', 'down', '$80.21 ', '$79.55 ', '$93.22 ', '$76.05 ']\n",
      "['MDT', 'MEDTRONIC PLC', '$82.12 ', 'up', '$82.14 ', '$81.38 ', '$89.72 ', '$69.35 ']\n",
      "['PG', 'PROCTER AND GAMBLE CO', '$93.27 ', 'down', '$93.82 ', '$92.82 ', '$94.19 ', '$81.18 ']\n",
      "['JNJ', 'JOHNSON AND JOHNSON', '$134.45 ', 'up', '$135.45 ', '$134.18 ', '$137.08 ', '$109.32 ']\n",
      "['ECL', 'ECOLAB INC', '$131.05 ', 'up', '$131.49 ', '$130.54 ', '$134.89 ', '$110.65 ']\n",
      "['ABT', 'ABBOTT LABORATORIES', '$51.76 ', 'up', '$51.88 ', '$51.49 ', '$52.60 ', '$37.38 ']\n",
      "['CVX', 'CHEVRON CORPORATION', '$114.63 ', 'up', '$114.91 ', '$113.63 ', '$119.00 ', '$97.68 ']\n",
      "['ITW', 'ILLINOIS TOOL WORKS INC', '$145.64 ', 'up', '$145.83 ', '$143.89 ', '$150.29 ', '$111.50 ']\n",
      "['LOW', 'LOWES COMPANIES INC', '$77.99 ', 'down', '$78.78 ', '$77.95 ', '$86.25 ', '$64.87 ']\n",
      "['KO', 'COCA COLA COMPANY', '$46.18 ', 'up', '$46.36 ', '$46.00 ', '$46.98 ', '$39.88 ']\n",
      "<class 'list'>\n",
      "--------------------\n",
      "Stock List without header\n",
      "['T', 'ATT', '$37.10 ', 'up', '$37.11 ', '$36.39 ', '$43.03 ', '$35.10 ']\n",
      "['XOM', 'EXXON MOBIL CORP', '$80.07 ', 'down', '$80.21 ', '$79.55 ', '$93.22 ', '$76.05 ']\n",
      "['MDT', 'MEDTRONIC PLC', '$82.12 ', 'up', '$82.14 ', '$81.38 ', '$89.72 ', '$69.35 ']\n",
      "['PG', 'PROCTER AND GAMBLE CO', '$93.27 ', 'down', '$93.82 ', '$92.82 ', '$94.19 ', '$81.18 ']\n",
      "['JNJ', 'JOHNSON AND JOHNSON', '$134.45 ', 'up', '$135.45 ', '$134.18 ', '$137.08 ', '$109.32 ']\n",
      "['ECL', 'ECOLAB INC', '$131.05 ', 'up', '$131.49 ', '$130.54 ', '$134.89 ', '$110.65 ']\n",
      "['ABT', 'ABBOTT LABORATORIES', '$51.76 ', 'up', '$51.88 ', '$51.49 ', '$52.60 ', '$37.38 ']\n",
      "['CVX', 'CHEVRON CORPORATION', '$114.63 ', 'up', '$114.91 ', '$113.63 ', '$119.00 ', '$97.68 ']\n",
      "['ITW', 'ILLINOIS TOOL WORKS INC', '$145.64 ', 'up', '$145.83 ', '$143.89 ', '$150.29 ', '$111.50 ']\n",
      "['LOW', 'LOWES COMPANIES INC', '$77.99 ', 'down', '$78.78 ', '$77.95 ', '$86.25 ', '$64.87 ']\n",
      "['KO', 'COCA COLA COMPANY', '$46.18 ', 'up', '$46.36 ', '$46.00 ', '$46.98 ', '$39.88 ']\n"
     ]
    }
   ],
   "source": [
    "# Creating a list object variable. The csv reader object is type converted to a list\n",
    "with open(csvfile, 'r', newline ='') as myfile_obj: \n",
    "        myfile_reader = csv.reader(myfile_obj) \n",
    "        my_list = list(myfile_reader)  \n",
    "        # my_list = myfile_reader.readlines()  # Another way of generating a list\n",
    "\n",
    "        # Looping through and priniting the list\n",
    "        print('Stock List with header')\n",
    "        for row in my_list:\n",
    "            print(row)\n",
    "        print(type(my_list))\n",
    "        \n",
    "        print('--------------------')\n",
    "        \n",
    "        # Looping through and priniting the list without header \n",
    "        print('Stock List without header')\n",
    "        for item in range(1, len(my_list)): # It skips the 0 which is the header row\n",
    "        # Print each row using \"item\" as the index value\n",
    "            list_without_header = (my_list[item])\n",
    "            print(list_without_header)"
   ]
  },
  {
   "cell_type": "code",
   "execution_count": 42,
   "metadata": {},
   "outputs": [
    {
     "name": "stdout",
     "output_type": "stream",
     "text": [
      "\n",
      "\n",
      "Printing Information for one stock\n",
      "['T', 'ATT', '$37.10 ', 'up', '$37.11 ', '$36.39 ', '$43.03 ', '$35.10 ']\n",
      "\n",
      "\n",
      "Printing a stock symbol\n",
      "JNJ\n"
     ]
    }
   ],
   "source": [
    "# Accessing a specific list\n",
    "print('\\n')\n",
    "print('Printing Information for one stock')\n",
    "print(my_list[1])\n",
    "\n",
    "print('\\n')\n",
    "print('Printing a stock symbol')\n",
    "print(my_list[5][0])"
   ]
  },
  {
   "cell_type": "code",
   "execution_count": 47,
   "metadata": {},
   "outputs": [
    {
     "name": "stdout",
     "output_type": "stream",
     "text": [
      "['Symbol', 'T', 'XOM', 'MDT', 'PG', 'JNJ', 'ECL', 'ABT', 'CVX', 'ITW', 'LOW', 'KO']\n",
      "['Name', 'ATT', 'EXXON MOBIL CORP', 'MEDTRONIC PLC', 'PROCTER AND GAMBLE CO', 'JOHNSON AND JOHNSON', 'ECOLAB INC', 'ABBOTT LABORATORIES', 'CHEVRON CORPORATION', 'ILLINOIS TOOL WORKS INC', 'LOWES COMPANIES INC', 'COCA COLA COMPANY']\n"
     ]
    }
   ],
   "source": [
    "# Method to populate each column as a separate list \n",
    "\n",
    "stock_symbols = []\n",
    "stock_names = []\n",
    "\n",
    "for row in my_list:\n",
    "    stock_symbols.append(row[0])\n",
    "    stock_names.append(row[1])\n",
    "\n",
    "print(stock_symbols)\n",
    "print(stock_names)\n"
   ]
  },
  {
   "cell_type": "code",
   "execution_count": 34,
   "metadata": {},
   "outputs": [
    {
     "name": "stdout",
     "output_type": "stream",
     "text": [
      "Symbol Name Last Trade\n",
      "T ATT $37.10 \n",
      "XOM EXXON MOBIL CORP $80.07 \n",
      "MDT MEDTRONIC PLC $82.12 \n",
      "PG PROCTER AND GAMBLE CO $93.27 \n",
      "JNJ JOHNSON AND JOHNSON $134.45 \n",
      "ECL ECOLAB INC $131.05 \n",
      "ABT ABBOTT LABORATORIES $51.76 \n",
      "CVX CHEVRON CORPORATION $114.63 \n",
      "ITW ILLINOIS TOOL WORKS INC $145.64 \n",
      "LOW LOWES COMPANIES INC $77.99 \n",
      "KO COCA COLA COMPANY $46.18 \n",
      "<class 'str'>\n"
     ]
    }
   ],
   "source": [
    "# Assigns each column to a variable which is string object\n",
    "with open(csvfile, 'r') as myfile_obj: \n",
    "        myfile_reader = csv.reader(myfile_obj) \n",
    "        for row in myfile_reader: \n",
    "            x = row[0]\n",
    "            y = row[1]\n",
    "            z = row[2]\n",
    "            print(x, y, z)\n",
    "print(type(x))"
   ]
  },
  {
   "cell_type": "markdown",
   "metadata": {},
   "source": [
    "## csv.reader object can also be converted to a dictionary"
   ]
  },
  {
   "cell_type": "code",
   "execution_count": null,
   "metadata": {},
   "outputs": [],
   "source": [
    "# Creating a dictionary with csv reader. Method 1\n",
    "with open(csvfile, 'r') as myfile_obj:\n",
    "    myfile_reader = csv.reader(myfile_obj)\n",
    "    result = {}\n",
    "    for row in myfile_reader:\n",
    "        if myfile_reader.line_num !=1: # skip header row\n",
    "            key = row[0] # Selects the first column as key\n",
    "            result[key] = row[1:] # Selects all the other columns as values for the key\n",
    "    print(result)"
   ]
  },
  {
   "cell_type": "code",
   "execution_count": 53,
   "metadata": {},
   "outputs": [
    {
     "name": "stdout",
     "output_type": "stream",
     "text": [
      "{'T': ['ATT', '$37.10 ', 'up', '$37.11 ', '$36.39 ', '$43.03 ', '$35.10 '], 'XOM': ['EXXON MOBIL CORP', '$80.07 ', 'down', '$80.21 ', '$79.55 ', '$93.22 ', '$76.05 '], 'MDT': ['MEDTRONIC PLC', '$82.12 ', 'up', '$82.14 ', '$81.38 ', '$89.72 ', '$69.35 '], 'PG': ['PROCTER AND GAMBLE CO', '$93.27 ', 'down', '$93.82 ', '$92.82 ', '$94.19 ', '$81.18 '], 'JNJ': ['JOHNSON AND JOHNSON', '$134.45 ', 'up', '$135.45 ', '$134.18 ', '$137.08 ', '$109.32 '], 'ECL': ['ECOLAB INC', '$131.05 ', 'up', '$131.49 ', '$130.54 ', '$134.89 ', '$110.65 '], 'ABT': ['ABBOTT LABORATORIES', '$51.76 ', 'up', '$51.88 ', '$51.49 ', '$52.60 ', '$37.38 '], 'CVX': ['CHEVRON CORPORATION', '$114.63 ', 'up', '$114.91 ', '$113.63 ', '$119.00 ', '$97.68 '], 'ITW': ['ILLINOIS TOOL WORKS INC', '$145.64 ', 'up', '$145.83 ', '$143.89 ', '$150.29 ', '$111.50 '], 'LOW': ['LOWES COMPANIES INC', '$77.99 ', 'down', '$78.78 ', '$77.95 ', '$86.25 ', '$64.87 '], 'KO': ['COCA COLA COMPANY', '$46.18 ', 'up', '$46.36 ', '$46.00 ', '$46.98 ', '$39.88 ']}\n"
     ]
    }
   ],
   "source": [
    "# Creating a dictionary with csv reader. Method 2. This uses dictionary comprehensions \n",
    "with open(csvfile, 'r') as myfile_obj:\n",
    "    myfile_reader = csv.reader(myfile_obj)\n",
    "    print({rows[0]:rows[1:] for rows in myfile_reader if myfile_reader.line_num !=1}) "
   ]
  },
  {
   "cell_type": "markdown",
   "metadata": {},
   "source": [
    "## Writing to CSV files"
   ]
  },
  {
   "cell_type": "code",
   "execution_count": 9,
   "metadata": {},
   "outputs": [],
   "source": [
    "with open(csvfile, 'r') as myfile_obj:\n",
    "    with open(output_file, \"w\") as myfile_wobj:\n",
    "        myfile_reader = csv.reader(myfile_obj)\n",
    "        myfile_writer = csv.writer(myfile_wobj,  delimiter=',')\n",
    "        for row in myfile_reader:\n",
    "            myfile_writer.writerow([row[0],row[1]]) # Prints th stock symbols and stock names to a file.\n",
    "                                            #The .writerow method writes out values in the simplest CSV form.\n",
    "                "
   ]
  }
 ],
 "metadata": {
  "kernelspec": {
   "display_name": "Python 3",
   "language": "python",
   "name": "python3"
  },
  "language_info": {
   "codemirror_mode": {
    "name": "ipython",
    "version": 3
   },
   "file_extension": ".py",
   "mimetype": "text/x-python",
   "name": "python",
   "nbconvert_exporter": "python",
   "pygments_lexer": "ipython3",
   "version": "3.8.3"
  }
 },
 "nbformat": 4,
 "nbformat_minor": 2
}
