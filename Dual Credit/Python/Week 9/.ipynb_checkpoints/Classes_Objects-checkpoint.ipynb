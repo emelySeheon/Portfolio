{
 "cells": [
  {
   "cell_type": "markdown",
   "metadata": {},
   "source": [
    "A house buying application can have a HomeBuyer and HomeSeller class. What classes to define is upto the programmer. Whne you design your application, you will need to figure out how many classes you want to define. That comes with practice.\n",
    "\n",
    "Here we will define the HomeBuyer class.\n",
    "\n",
    "We have defined three attributes \n",
    "* Name, creditscore, targetprice.\n",
    "\n",
    "Two methods (Methods are just like functions, they determine what actions can be done on a class)\n",
    "* get_credentials and see_houses"
   ]
  },
  {
   "cell_type": "markdown",
   "metadata": {},
   "source": [
    "* __init__ is a special method in Python classes, it is the constructor method for a class. Your attributes are defined in a __init__ method\n",
    "* The first argument of every method is a reference to the current instance of the class. By convention, we name this argument self. \n",
    "* In __init__, self refers to the object currently being created; Similar to the keyword ‘this’ in Java or C++. But Python uses ‘self’ more often than Java uses ‘this.’\n"
   ]
  },
  {
   "cell_type": "code",
   "execution_count": 29,
   "metadata": {},
   "outputs": [],
   "source": [
    "class HomeBuyer(object):\n",
    "    ''' A class defining a Home Buyer'''\n",
    "    def __init__(self,name,creditscore, targetprice):\n",
    "        '''This is where you define the attributes of a HomeBuyer'''\n",
    "        self.name = name\n",
    "        self.creditscore = creditscore\n",
    "        self.targetprice = targetprice\n",
    "    def getcredentials(self):\n",
    "        print('{}, {}, {}'.format(self.name, self.creditscore, self.targetprice))\n",
    "    def see_houses(self, houses):\n",
    "        '''This method provides a list of house that \n",
    "        are within the target price of the homebuyer. Input is a nested list '''       \n",
    "        my_houses = []    \n",
    "        for x in houses[1]: # iterating through the second list which has the prices\n",
    "            if x<= self.targetprice: \n",
    "                my_houses.append(x)\n",
    "        return my_houses"
   ]
  },
  {
   "cell_type": "code",
   "execution_count": 30,
   "metadata": {},
   "outputs": [
    {
     "data": {
      "text/plain": [
       "<__main__.HomeBuyer at 0x21234032cf8>"
      ]
     },
     "execution_count": 30,
     "metadata": {},
     "output_type": "execute_result"
    }
   ],
   "source": [
    "#instantiating classes\n",
    "kurt = HomeBuyer('Kurt H', 650, 20000)\n",
    "kurt"
   ]
  },
  {
   "cell_type": "code",
   "execution_count": 31,
   "metadata": {},
   "outputs": [
    {
     "name": "stdout",
     "output_type": "stream",
     "text": [
      "Kurt H, 650, 20000\n"
     ]
    }
   ],
   "source": [
    "# Calling the method get_credentials\n",
    "kurt.getcredentials() # You do not need to specify self as an argument while calling the method, only for definition"
   ]
  },
  {
   "cell_type": "code",
   "execution_count": 32,
   "metadata": {},
   "outputs": [
    {
     "name": "stdout",
     "output_type": "stream",
     "text": [
      "[10000, 15000]\n"
     ]
    }
   ],
   "source": [
    "# Calling the method see_houses\n",
    "houses_list = [['h1','h2','h3'],[10000,15000,22000]]\n",
    "          \n",
    "my_houses_list = kurt.see_houses(houses_list)\n",
    "print(my_houses_list)"
   ]
  },
  {
   "cell_type": "code",
   "execution_count": null,
   "metadata": {},
   "outputs": [],
   "source": []
  }
 ],
 "metadata": {
  "kernelspec": {
   "display_name": "Python 3",
   "language": "python",
   "name": "python3"
  },
  "language_info": {
   "codemirror_mode": {
    "name": "ipython",
    "version": 3
   },
   "file_extension": ".py",
   "mimetype": "text/x-python",
   "name": "python",
   "nbconvert_exporter": "python",
   "pygments_lexer": "ipython3",
   "version": "3.8.3"
  }
 },
 "nbformat": 4,
 "nbformat_minor": 2
}
