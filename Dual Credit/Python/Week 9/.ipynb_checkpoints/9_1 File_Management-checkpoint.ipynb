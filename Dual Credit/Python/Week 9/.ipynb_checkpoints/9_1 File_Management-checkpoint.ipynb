{
 "cells": [
  {
   "cell_type": "markdown",
   "metadata": {},
   "source": [
    "## Opening the file - old way \n",
    "\n",
    "handle = open(filename, mode)\n",
    "* returns a handle use to manipulate the file\n",
    "* filename is a string\n",
    "* mode is optional -  'r' reading the file and 'w' write to the file."
   ]
  },
  {
   "cell_type": "code",
   "execution_count": null,
   "metadata": {},
   "outputs": [],
   "source": [
    "# opening a file. myfile is the file handle\n",
    "# This is the old way of opening a file. This requires closing the file after they are opened.\n",
    "myfile = open('Jazz_Ballads')"
   ]
  },
  {
   "cell_type": "code",
   "execution_count": null,
   "metadata": {},
   "outputs": [],
   "source": [
    "# Reading the file\n",
    "# read() reads in the whole text – only advisable if the text is small!\n",
    "text = myfile.read() # You can read specified number of characters: text = myfile.read(5)\n",
    "print(text)"
   ]
  },
  {
   "cell_type": "code",
   "execution_count": null,
   "metadata": {},
   "outputs": [],
   "source": [
    "#closing the file\n",
    "myfile.close()"
   ]
  },
  {
   "cell_type": "code",
   "execution_count": null,
   "metadata": {},
   "outputs": [],
   "source": [
    "#Opening and reading together\n",
    "text = open(\"Jazz_Ballads\").read()\n",
    "print(text)"
   ]
  },
  {
   "cell_type": "code",
   "execution_count": null,
   "metadata": {},
   "outputs": [],
   "source": [
    "myfile = open('Jazz_Ballads')\n",
    "#Reading the file line by line the ’\\n’ is kept\n",
    "line = myfile.readline() # ypu have to repeat it mu;tiple times or use a loop.\n",
    "print(line)\n",
    "\n",
    "myfile.close()"
   ]
  },
  {
   "cell_type": "code",
   "execution_count": null,
   "metadata": {},
   "outputs": [],
   "source": [
    "myfile = open('Jazz_Ballads')\n",
    "# readlines() reads in the whole text using readline() and returns a list of strings\n",
    "r_line = myfile.readlines()\n",
    "myfile.close()"
   ]
  },
  {
   "cell_type": "code",
   "execution_count": null,
   "metadata": {},
   "outputs": [],
   "source": [
    "# For loop to print each character\n",
    "myfile1 = open('Jazz_Ballads', 'r')\n",
    "for c in myfile1:\n",
    "    print(c)"
   ]
  },
  {
   "cell_type": "code",
   "execution_count": null,
   "metadata": {},
   "outputs": [],
   "source": [
    "#Writing strings to a file. w mode overwrites the file\n",
    "w_text= open(\"new_file.txt\", 'w')\n",
    "w_text.write('python\\n')\n",
    "w_text.write('class\\n')\n",
    "w_text.write('cis1250\\n')\n",
    "w_text.close()"
   ]
  },
  {
   "cell_type": "code",
   "execution_count": null,
   "metadata": {},
   "outputs": [],
   "source": [
    "#Writing from a list\n",
    "flowers = ['roses','lillies','daisies'] \n",
    "my_list_file = open('newlist.txt', 'w')\n",
    "for flower in flowers:\n",
    "    my_list_file.write(flower)  \n",
    "    \n",
    "my_list_file.close()"
   ]
  },
  {
   "cell_type": "code",
   "execution_count": null,
   "metadata": {},
   "outputs": [],
   "source": [
    "#Appending strings to an existing file\n",
    "w_text= open(\"new_file.txt\", 'a')\n",
    "w_text.write('mw evenings\\n')\n",
    "w_text.write('semester ends in December\\n')\n",
    "w_text.close()"
   ]
  },
  {
   "cell_type": "markdown",
   "metadata": {
    "collapsed": true
   },
   "source": [
    "## Opening the file the new way using the with statement \n",
    "This automatically closes after any action is done on the new file."
   ]
  },
  {
   "cell_type": "markdown",
   "metadata": {},
   "source": [
    "## File Modes\n",
    "\n",
    "‘r’ – is the default that is used to open a file in read-mode only.\n",
    "\n",
    "‘r+’ opens the file in read and write mode.\n",
    "\n",
    "‘w’ A text file is opened in write-only mode. Truncates the content of the text file.\n",
    "\n",
    "‘rb’ – opens the file in binary format – read-only.\n",
    "\n",
    "‘rb+’ – binary mode. Read and write.\n",
    "\n",
    "‘wb’ – binary mode – write only.\n",
    "\n",
    "‘a’ – It creates a new file if it does not exist. Used to append at the end of file. So existing contents remains in place.\n",
    "\n",
    "‘a+’ – it will open the file for read and appending."
   ]
  },
  {
   "cell_type": "code",
   "execution_count": null,
   "metadata": {},
   "outputs": [],
   "source": [
    "# f is the file handle\n",
    "#Reading the file\n",
    "with open('Jazz_Ballads', 'r') as f:\n",
    "    print(f.read())"
   ]
  },
  {
   "cell_type": "code",
   "execution_count": null,
   "metadata": {},
   "outputs": [],
   "source": [
    "#Writing to a file.\n",
    "with open('Jazz.txt', 'w') as f:\n",
    "    f.write('Smooth\\nLatin\\nBebop\\nNewOrleans')   "
   ]
  },
  {
   "cell_type": "code",
   "execution_count": null,
   "metadata": {},
   "outputs": [],
   "source": [
    "# Printing line by line \n",
    "with open('Jazz_Ballads') as fobj:\n",
    "    for line in fobj:\n",
    "        print(line)"
   ]
  },
  {
   "cell_type": "code",
   "execution_count": 6,
   "metadata": {},
   "outputs": [
    {
     "name": "stdout",
     "output_type": "stream",
     "text": [
      "Born To Be Blue, Mel Tormé\n",
      "\n",
      "Every Time We Say Goodbye, Cole Porter\n",
      "\n"
     ]
    }
   ],
   "source": [
    "# readline() reads a single line from the file\n",
    "\n",
    "with open('Jazz_Ballads', 'r') as f:\n",
    "    print(f.readline())\n",
    "    print(f.readline())    "
   ]
  },
  {
   "cell_type": "code",
   "execution_count": 9,
   "metadata": {},
   "outputs": [
    {
     "name": "stdout",
     "output_type": "stream",
     "text": [
      "['Born To Be Blue, Mel Tormé\\n', 'Every Time We Say Goodbye, Cole Porter\\n', 'For All We Know, Coots, Lewis\\n', 'Good Morning Heartache, Fisher, Higgenbotham, Drake\\n', 'Heart’s Desire, Dave Frishberg, Alan Broadbent\\n', 'I Cover the Waterfront, Heyman & Green\\n', 'I Got it Bad and That Ain’t Good, Ellington,Webster\\n', 'If You Could See Me Now,Tadd Dameron\\n', 'Like A Lover,Alan & Marilyn Bergman, Dori Caymi\\n', 'Listen Here, Dave Frishberg\\n', 'Lonely Town, Bernstein, Comden, Green\\n', 'Mood Indigo, Elington, Mills\\n', 'Never Let Me Go, Livingston\\n', 'Prelude To A Kiss, Ellington, Mills, Gordon\\n', 'So Many Stars,Alan & Marilyn Bergman, Sergio Mendes\\n', 'Some Other Time, Leonard Bernstein\\n', 'Something to Live For, Ellington, Strayhorn\\n', 'The Midnight Sun, Hampton, Burke, Mercer\\n', 'The Summer Knows, Alan & Marilyn Bergman, Michel Legrand\\n', 'We’ll Be Together Again, Carl Fisher, Frankie Laine\\n', 'What Are You Doing the Rest of Your Life, Alan & Marilyn Bergman, Michel Legrand\\n', 'When I Look In Your Eyes, Leslie Bricusse\\n', 'Where Is Love, Lionel Bart\\n', 'Willow Weep For Me, Ann Ronell\\n', 'With Every Breath I Take, Cy Coleman\\n']\n",
      "[]\n"
     ]
    }
   ],
   "source": [
    "# If you want to read all the lines of a file in a list you can also use list(f) or f.readlines()\n",
    "\n",
    "with open('Jazz_Ballads', 'r') as f:\n",
    "    print(list(f))"
   ]
  },
  {
   "cell_type": "code",
   "execution_count": 10,
   "metadata": {},
   "outputs": [
    {
     "name": "stdout",
     "output_type": "stream",
     "text": [
      "['Born To Be Blue, Mel Tormé\\n', 'Every Time We Say Goodbye, Cole Porter\\n', 'For All We Know, Coots, Lewis\\n', 'Good Morning Heartache, Fisher, Higgenbotham, Drake\\n', 'Heart’s Desire, Dave Frishberg, Alan Broadbent\\n', 'I Cover the Waterfront, Heyman & Green\\n', 'I Got it Bad and That Ain’t Good, Ellington,Webster\\n', 'If You Could See Me Now,Tadd Dameron\\n', 'Like A Lover,Alan & Marilyn Bergman, Dori Caymi\\n', 'Listen Here, Dave Frishberg\\n', 'Lonely Town, Bernstein, Comden, Green\\n', 'Mood Indigo, Elington, Mills\\n', 'Never Let Me Go, Livingston\\n', 'Prelude To A Kiss, Ellington, Mills, Gordon\\n', 'So Many Stars,Alan & Marilyn Bergman, Sergio Mendes\\n', 'Some Other Time, Leonard Bernstein\\n', 'Something to Live For, Ellington, Strayhorn\\n', 'The Midnight Sun, Hampton, Burke, Mercer\\n', 'The Summer Knows, Alan & Marilyn Bergman, Michel Legrand\\n', 'We’ll Be Together Again, Carl Fisher, Frankie Laine\\n', 'What Are You Doing the Rest of Your Life, Alan & Marilyn Bergman, Michel Legrand\\n', 'When I Look In Your Eyes, Leslie Bricusse\\n', 'Where Is Love, Lionel Bart\\n', 'Willow Weep For Me, Ann Ronell\\n', 'With Every Breath I Take, Cy Coleman\\n']\n"
     ]
    }
   ],
   "source": [
    "with open('Jazz_Ballads', 'r') as f:\n",
    "    print(list(f))"
   ]
  },
  {
   "cell_type": "code",
   "execution_count": null,
   "metadata": {},
   "outputs": [],
   "source": []
  }
 ],
 "metadata": {
  "kernelspec": {
   "display_name": "Python 3",
   "language": "python",
   "name": "python3"
  },
  "language_info": {
   "codemirror_mode": {
    "name": "ipython",
    "version": 3
   },
   "file_extension": ".py",
   "mimetype": "text/x-python",
   "name": "python",
   "nbconvert_exporter": "python",
   "pygments_lexer": "ipython3",
   "version": "3.8.3"
  }
 },
 "nbformat": 4,
 "nbformat_minor": 2
}
