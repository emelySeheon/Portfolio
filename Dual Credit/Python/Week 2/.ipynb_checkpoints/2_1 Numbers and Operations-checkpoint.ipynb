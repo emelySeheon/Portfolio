{
 "cells": [
  {
   "cell_type": "markdown",
   "metadata": {},
   "source": [
    "\n",
    "# Python Numerical Types and Operators\n"
   ]
  },
  {
   "cell_type": "markdown",
   "metadata": {},
   "source": [
    "##  Interger Type (int)\n",
    "\n",
    "* Corresponds to integer in Mathematics\n",
    "* Can use operators such as +, -, * etc.\n",
    "* Cannot start with 0 \n",
    "* Python 2.x has two integer types - normal(32 bits) and Long(unlimited precision)\n",
    "* Python 3.x has merged the two types\n",
    " "
   ]
  },
  {
   "cell_type": "markdown",
   "metadata": {},
   "source": [
    "## Floating point type(float)\n",
    "\n",
    "Floating point numbers have a decimal point and/or an optional signed exponent denoted by e or E and a optional sign. \n",
    "\n",
    "For example, -1.042e3 (illustration only, will not cover any scientific notation)"
   ]
  },
  {
   "cell_type": "markdown",
   "metadata": {},
   "source": [
    "## Numerical Operators\n",
    "\n",
    "The division operator has changed from 2.x to 3.x. Python 3.x has two division types true division and floor division. \n",
    "\n",
    "In python 2.x there were 3 divisions, true, floor and classic.  '/' operator performed classic division (truncate reminders for integers, keep remainders for floating point)"
   ]
  },
  {
   "cell_type": "code",
   "execution_count": 1,
   "metadata": {},
   "outputs": [
    {
     "name": "stdout",
     "output_type": "stream",
     "text": [
      "3\n",
      "2\n",
      "42\n",
      "3\n",
      "3.5\n",
      "3.5\n",
      "3\n",
      "8\n"
     ]
    }
   ],
   "source": [
    "print(1 + 2) # Addition\n",
    "\n",
    "print(5 - 3) #Subtraction\n",
    "\n",
    "print(6*7) # Multiplication\n",
    "\n",
    "print(7%4) # Remainder\n",
    "\n",
    "print(7/2) # True division \n",
    "\n",
    "print(7.0/2.0) # True division\n",
    "\n",
    "print(7//2) # Floor division \n",
    "\n",
    "print(2**3) # Exponentiation"
   ]
  },
  {
   "cell_type": "markdown",
   "metadata": {},
   "source": [
    "## Additional Operators"
   ]
  },
  {
   "cell_type": "code",
   "execution_count": 2,
   "metadata": {},
   "outputs": [
    {
     "name": "stdout",
     "output_type": "stream",
     "text": [
      "True\n",
      "False\n",
      "False\n",
      "True\n",
      "False\n",
      "True\n"
     ]
    }
   ],
   "source": [
    "print(3 == 3.0) \n",
    "\n",
    "print(3 != 3.0) #Inequality\n",
    "\n",
    "print(3 > 4)\n",
    "\n",
    "print(5 >= 4)\n",
    "\n",
    "print(7 < 4)\n",
    "\n",
    "print(3 <= 5)"
   ]
  },
  {
   "cell_type": "code",
   "execution_count": 3,
   "metadata": {},
   "outputs": [
    {
     "name": "stdout",
     "output_type": "stream",
     "text": [
      "True\n"
     ]
    }
   ],
   "source": [
    "# Chained comparisons\n",
    "\n",
    "x=2; y=3; z=5\n",
    "\n",
    "print(x<y<z) # same as x<y and y<z"
   ]
  },
  {
   "cell_type": "markdown",
   "metadata": {},
   "source": [
    "## Operator Precedence/Type Conversion\n",
    "\n",
    "Parentheses have the highest precedence\n",
    "Exponentiation\n",
    "Multiplication\n",
    "Division\n",
    "Addition\n",
    "Subtraction"
   ]
  },
  {
   "cell_type": "code",
   "execution_count": 4,
   "metadata": {},
   "outputs": [
    {
     "name": "stdout",
     "output_type": "stream",
     "text": [
      "7\n",
      "9\n",
      "5.0\n",
      "5.0\n"
     ]
    }
   ],
   "source": [
    "print(1+2*3) # Mixed operators use operator precedence\n",
    "\n",
    "print((1 + 2) * 3) # Enclosing sub expressions in parentheses\n",
    "\n",
    "print(2.0+3) # Mixed types always gets converted to the more complex type\n",
    "\n",
    "print(float(5)) # Type Conversion"
   ]
  },
  {
   "cell_type": "markdown",
   "metadata": {},
   "source": [
    "## Built-in Math Functions \n",
    "\n",
    "These are functions that are built into the standard library\n",
    "\n",
    "https://docs.python.org/3/library/functions.html\n"
   ]
  },
  {
   "cell_type": "code",
   "execution_count": 5,
   "metadata": {},
   "outputs": [
    {
     "name": "stdout",
     "output_type": "stream",
     "text": [
      "Help on built-in function pow in module builtins:\n",
      "\n",
      "pow(x, y, z=None, /)\n",
      "    Equivalent to x**y (with two arguments) or x**y % z (with three arguments)\n",
      "    \n",
      "    Some types, such as ints, are able to use a more efficient algorithm when\n",
      "    invoked using the three argument form.\n",
      "\n"
     ]
    }
   ],
   "source": [
    "# Getting help on a function\n",
    "\n",
    "help(pow)"
   ]
  },
  {
   "cell_type": "code",
   "execution_count": 6,
   "metadata": {},
   "outputs": [
    {
     "name": "stdout",
     "output_type": "stream",
     "text": [
      "8\n",
      "2\n"
     ]
    }
   ],
   "source": [
    "print(pow(2,3)) # same as 2**3\n",
    "\n",
    "print(pow(2,3,3)) #same as 2**3 % 3\n",
    "    "
   ]
  },
  {
   "cell_type": "markdown",
   "metadata": {},
   "source": [
    "## Math Modules \n",
    "\n",
    "These modules are still part of the python installation, however have to be imported. "
   ]
  },
  {
   "cell_type": "code",
   "execution_count": 8,
   "metadata": {},
   "outputs": [
    {
     "name": "stdout",
     "output_type": "stream",
     "text": [
      "8.0\n",
      "89\n"
     ]
    }
   ],
   "source": [
    "import math \n",
    "\n",
    "print(math.sqrt(64))\n",
    "\n",
    "print(math.floor(89.765))"
   ]
  },
  {
   "cell_type": "code",
   "execution_count": 9,
   "metadata": {},
   "outputs": [
    {
     "data": {
      "text/plain": [
       "3"
      ]
     },
     "execution_count": 9,
     "metadata": {},
     "output_type": "execute_result"
    }
   ],
   "source": [
    "import random as rd\n",
    "\n",
    "rd.choice([2,3,4])\n"
   ]
  },
  {
   "cell_type": "code",
   "execution_count": null,
   "metadata": {},
   "outputs": [],
   "source": []
  }
 ],
 "metadata": {
  "kernelspec": {
   "display_name": "Python 3",
   "language": "python",
   "name": "python3"
  },
  "language_info": {
   "codemirror_mode": {
    "name": "ipython",
    "version": 3
   },
   "file_extension": ".py",
   "mimetype": "text/x-python",
   "name": "python",
   "nbconvert_exporter": "python",
   "pygments_lexer": "ipython3",
   "version": "3.8.3"
  }
 },
 "nbformat": 4,
 "nbformat_minor": 1
}
