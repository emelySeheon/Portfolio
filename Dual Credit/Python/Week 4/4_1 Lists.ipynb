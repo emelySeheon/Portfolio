{
 "cells": [
  {
   "cell_type": "markdown",
   "metadata": {},
   "source": [
    "# Lists \n",
    "\n",
    "1. The list type in python is of the object type sequence,is a mutable and notated by [ ]\n",
    "2. Lists can contain any type of element or items."
   ]
  },
  {
   "cell_type": "markdown",
   "metadata": {},
   "source": [
    "## Creating Lists "
   ]
  },
  {
   "cell_type": "code",
   "execution_count": 75,
   "metadata": {},
   "outputs": [
    {
     "name": "stdout",
     "output_type": "stream",
     "text": [
      "['fish', 3.5, True]\n"
     ]
    }
   ],
   "source": [
    "new_list = ['fish', 3.5, True]\n",
    "\n",
    "print(new_list)"
   ]
  },
  {
   "cell_type": "code",
   "execution_count": 76,
   "metadata": {},
   "outputs": [
    {
     "name": "stdout",
     "output_type": "stream",
     "text": [
      "['paris', 5.0, 9]\n"
     ]
    }
   ],
   "source": [
    "another_list = ['paris', 5.0, 9]\n",
    "\n",
    "print(another_list)"
   ]
  },
  {
   "cell_type": "code",
   "execution_count": 77,
   "metadata": {},
   "outputs": [
    {
     "name": "stdout",
     "output_type": "stream",
     "text": [
      "['roses', 'lillies', 'daisies', 'lilacs']\n"
     ]
    }
   ],
   "source": [
    "flowers = ['roses', 'lillies', 'daisies', 'lilacs']\n",
    "print(flowers)"
   ]
  },
  {
   "cell_type": "code",
   "execution_count": 78,
   "metadata": {},
   "outputs": [
    {
     "name": "stdout",
     "output_type": "stream",
     "text": [
      "['apple', 'banana', 'mango', 'peach']\n"
     ]
    }
   ],
   "source": [
    "fruits = ['apple', 'banana', 'mango', 'peach']\n",
    "print(fruits)"
   ]
  },
  {
   "cell_type": "code",
   "execution_count": 79,
   "metadata": {},
   "outputs": [
    {
     "name": "stdout",
     "output_type": "stream",
     "text": [
      "[]\n"
     ]
    }
   ],
   "source": [
    "#Create an empty list - Method 1\n",
    "empty_list = []\n",
    "print(empty_list)"
   ]
  },
  {
   "cell_type": "code",
   "execution_count": 80,
   "metadata": {},
   "outputs": [
    {
     "name": "stdout",
     "output_type": "stream",
     "text": [
      "[]\n"
     ]
    }
   ],
   "source": [
    "#Create an empty list - Method 2\n",
    "my_empty_list = list()\n",
    "print(my_empty_list)"
   ]
  },
  {
   "cell_type": "code",
   "execution_count": 81,
   "metadata": {},
   "outputs": [
    {
     "name": "stdout",
     "output_type": "stream",
     "text": [
      "['abc']\n",
      "<class 'list'>\n"
     ]
    }
   ],
   "source": [
    "#single element list\n",
    "print(['abc'])\n",
    "print(type(['abc'])) "
   ]
  },
  {
   "cell_type": "code",
   "execution_count": 82,
   "metadata": {},
   "outputs": [
    {
     "name": "stdout",
     "output_type": "stream",
     "text": [
      "['saturn', 10, 2.0, [24, 'pluto']]\n"
     ]
    }
   ],
   "source": [
    "# A nested list can contain elements of different types including a list\n",
    "\n",
    "my_nested_list = ['saturn', 10, 2.0, [24, 'pluto']]\n",
    "\n",
    "print(my_nested_list)\n",
    "\n"
   ]
  },
  {
   "cell_type": "code",
   "execution_count": 83,
   "metadata": {},
   "outputs": [
    {
     "name": "stdout",
     "output_type": "stream",
     "text": [
      "[[10, 12, 14], [1, 2, 3]]\n"
     ]
    }
   ],
   "source": [
    "# A list of lists\n",
    "\n",
    "nested_list_new = [[10,12,14],[1,2,3]]\n",
    "\n",
    "print(nested_list_new)"
   ]
  },
  {
   "cell_type": "code",
   "execution_count": 84,
   "metadata": {},
   "outputs": [
    {
     "name": "stdout",
     "output_type": "stream",
     "text": [
      "['j', 'u', 'p', 'y', 't', 'e', 'r']\n"
     ]
    }
   ],
   "source": [
    "# if you just want to make a list from a string, use list()\n",
    "a_list = list('jupyter')\n",
    "print(a_list)"
   ]
  },
  {
   "cell_type": "code",
   "execution_count": 85,
   "metadata": {},
   "outputs": [
    {
     "name": "stdout",
     "output_type": "stream",
     "text": [
      "[0, 1, 2, 3, 4, 5, 6]\n",
      "[-4, -3, -2, -1, 0, 1, 2, 3]\n"
     ]
    }
   ],
   "source": [
    "# range function creates a list of numbers\n",
    "b_list = list(range(7)) \n",
    "print(b_list)\n",
    "\n",
    "b1_list = list(range(-4, 4))\n",
    "print(b1_list)"
   ]
  },
  {
   "cell_type": "markdown",
   "metadata": {},
   "source": [
    "## Sequence Operations\n",
    "1. Since lists are sequences, the sequence operations such as indexing and slicing can be performed on a list.\n",
    "2. lists are mutable, so you can replace items in a list"
   ]
  },
  {
   "cell_type": "markdown",
   "metadata": {},
   "source": [
    "## Indexing \n"
   ]
  },
  {
   "cell_type": "code",
   "execution_count": 86,
   "metadata": {},
   "outputs": [
    {
     "data": {
      "text/plain": [
       "3.5"
      ]
     },
     "execution_count": 86,
     "metadata": {},
     "output_type": "execute_result"
    }
   ],
   "source": [
    "# Indexing starts from 0.\n",
    "new_list[1]"
   ]
  },
  {
   "cell_type": "code",
   "execution_count": 87,
   "metadata": {},
   "outputs": [
    {
     "data": {
      "text/plain": [
       "True"
      ]
     },
     "execution_count": 87,
     "metadata": {},
     "output_type": "execute_result"
    }
   ],
   "source": [
    "new_list[-1] # counts from the right"
   ]
  },
  {
   "cell_type": "code",
   "execution_count": 88,
   "metadata": {},
   "outputs": [
    {
     "name": "stdout",
     "output_type": "stream",
     "text": [
      "['clam', 3.5, True]\n"
     ]
    }
   ],
   "source": [
    "# indexing supports assignment. We ae changing the element fish to 'clam'\n",
    "new_list[0] = 'clam'\n",
    "print(new_list)"
   ]
  },
  {
   "cell_type": "code",
   "execution_count": 89,
   "metadata": {},
   "outputs": [
    {
     "name": "stdout",
     "output_type": "stream",
     "text": [
      "3\n",
      "24\n"
     ]
    }
   ],
   "source": [
    "# Accessing elements from a list of lists or nested list\n",
    "print(nested_list_new[1][2])\n",
    "\n",
    "print(my_nested_list[3][0])"
   ]
  },
  {
   "cell_type": "markdown",
   "metadata": {},
   "source": [
    "## Slicing "
   ]
  },
  {
   "cell_type": "code",
   "execution_count": 90,
   "metadata": {},
   "outputs": [
    {
     "name": "stdout",
     "output_type": "stream",
     "text": [
      "['y', 't', 'e', 'r']\n"
     ]
    }
   ],
   "source": [
    "print(a_list[3:])"
   ]
  },
  {
   "cell_type": "code",
   "execution_count": 91,
   "metadata": {},
   "outputs": [
    {
     "name": "stdout",
     "output_type": "stream",
     "text": [
      "['u', 'p']\n"
     ]
    }
   ],
   "source": [
    "print(a_list[1:3])"
   ]
  },
  {
   "cell_type": "code",
   "execution_count": 92,
   "metadata": {},
   "outputs": [
    {
     "name": "stdout",
     "output_type": "stream",
     "text": [
      "['j', 'u', 'p']\n"
     ]
    }
   ],
   "source": [
    "print(a_list[:3])"
   ]
  },
  {
   "cell_type": "code",
   "execution_count": 93,
   "metadata": {},
   "outputs": [
    {
     "name": "stdout",
     "output_type": "stream",
     "text": [
      "['j', 'x', 'x', 'y', 't', 'e', 'r']\n"
     ]
    }
   ],
   "source": [
    "a_list[1:3] = 'xx'\n",
    "print(a_list)"
   ]
  },
  {
   "cell_type": "code",
   "execution_count": 94,
   "metadata": {},
   "outputs": [
    {
     "name": "stdout",
     "output_type": "stream",
     "text": [
      "[1, 2, 0]\n"
     ]
    }
   ],
   "source": [
    "# Slicing accesses parts of the list\n",
    "print([b_list[1], b_list[2], b_list[0]])"
   ]
  },
  {
   "cell_type": "markdown",
   "metadata": {
    "collapsed": true
   },
   "source": [
    "## List Operations\n",
    "\n",
    "**The operator + concatenates lists**\n",
    "\n",
    "**The operator * repeats a list**\n",
    "\n",
    "NOTE: These operations requires the same type (list) on both sides. "
   ]
  },
  {
   "cell_type": "code",
   "execution_count": 95,
   "metadata": {},
   "outputs": [
    {
     "name": "stdout",
     "output_type": "stream",
     "text": [
      "[1, 2, 3, 4, 5, 6, 7, 8, 9, 10, 11, 12]\n"
     ]
    }
   ],
   "source": [
    "list_1 = [1,2,3]\n",
    "list_2 = [4,5,6, 7,8,9,10,11,12]\n",
    "\n",
    "list_three = list_1 + list_2\n",
    "\n",
    "print(list_three)"
   ]
  },
  {
   "cell_type": "code",
   "execution_count": 96,
   "metadata": {},
   "outputs": [
    {
     "name": "stdout",
     "output_type": "stream",
     "text": [
      "['paris', 5.0, 9, 'http', 'ntp']\n"
     ]
    }
   ],
   "source": [
    "protocols = another_list + ['http', 'ntp']\n",
    "print(protocols)"
   ]
  },
  {
   "cell_type": "code",
   "execution_count": 97,
   "metadata": {},
   "outputs": [
    {
     "name": "stdout",
     "output_type": "stream",
     "text": [
      "['paris', 5.0, 9, 'http', 'ntp', 'paris', 5.0, 9, 'http', 'ntp', 'paris', 5.0, 9, 'http', 'ntp']\n"
     ]
    }
   ],
   "source": [
    "new_protocols = protocols * 3\n",
    "\n",
    "print(new_protocols)"
   ]
  },
  {
   "cell_type": "markdown",
   "metadata": {},
   "source": [
    "## Deleting elements from a list\n",
    "\n",
    "There are several ways to remove elements from a list. "
   ]
  },
  {
   "cell_type": "code",
   "execution_count": 98,
   "metadata": {},
   "outputs": [
    {
     "name": "stdout",
     "output_type": "stream",
     "text": [
      "[1, 3]\n"
     ]
    }
   ],
   "source": [
    "# Remove using the indx position\n",
    "\n",
    "del list_1[1]\n",
    "\n",
    "print(list_1)"
   ]
  },
  {
   "cell_type": "code",
   "execution_count": 99,
   "metadata": {},
   "outputs": [
    {
     "name": "stdout",
     "output_type": "stream",
     "text": [
      "[4, 5, 8, 9, 10, 11, 12]\n"
     ]
    }
   ],
   "source": [
    "# Remove more than one element\n",
    "\n",
    "del list_2[2:4]\n",
    "\n",
    "print(list_2)"
   ]
  },
  {
   "cell_type": "code",
   "execution_count": 100,
   "metadata": {},
   "outputs": [
    {
     "name": "stdout",
     "output_type": "stream",
     "text": [
      "[4, 5, 8, 9, 12]\n"
     ]
    }
   ],
   "source": [
    "# Removing by assigning to an empty list\n",
    "\n",
    "list_2[4:6]=[]\n",
    "print(list_2)"
   ]
  },
  {
   "cell_type": "markdown",
   "metadata": {},
   "source": [
    "## Membership in a list"
   ]
  },
  {
   "cell_type": "code",
   "execution_count": 101,
   "metadata": {},
   "outputs": [
    {
     "data": {
      "text/plain": [
       "True"
      ]
     },
     "execution_count": 101,
     "metadata": {},
     "output_type": "execute_result"
    }
   ],
   "source": [
    "9 in list_2"
   ]
  }
 ],
 "metadata": {
  "kernelspec": {
   "display_name": "Python 3",
   "language": "python",
   "name": "python3"
  },
  "language_info": {
   "codemirror_mode": {
    "name": "ipython",
    "version": 3
   },
   "file_extension": ".py",
   "mimetype": "text/x-python",
   "name": "python",
   "nbconvert_exporter": "python",
   "pygments_lexer": "ipython3",
   "version": "3.8.3"
  }
 },
 "nbformat": 4,
 "nbformat_minor": 1
}
