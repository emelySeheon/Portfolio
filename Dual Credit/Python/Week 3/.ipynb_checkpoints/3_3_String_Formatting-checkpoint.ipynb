{
 "cells": [
  {
   "cell_type": "markdown",
   "metadata": {},
   "source": [
    "\n",
    "# This notebook illustrates the two different types of string formatting\n",
    "\n",
    "**String formatting Expressions (old style) - '..%s, %d'..' % (values)** \n",
    "\n",
    "This is based on the C language printf model and is still widely used.\n",
    "    \n",
    "**String formatting Method calls (new style) '...{}...'.format(values)**\n",
    "\n",
    "This is derived from C#/.Net."
   ]
  },
  {
   "cell_type": "code",
   "execution_count": 44,
   "metadata": {},
   "outputs": [],
   "source": [
    "#Example string 1 - Double Quotes\n",
    "sample_string = \"this is python programming class\""
   ]
  },
  {
   "cell_type": "code",
   "execution_count": 45,
   "metadata": {},
   "outputs": [],
   "source": [
    "#Example string 2 - Single Quotes\n",
    "my_name = 'srividya'"
   ]
  },
  {
   "cell_type": "code",
   "execution_count": 46,
   "metadata": {},
   "outputs": [],
   "source": [
    "#Example string 3 - with space and digits \n",
    "\n",
    "new_str = '$$CIS 1250 Programming class  '"
   ]
  },
  {
   "cell_type": "code",
   "execution_count": 47,
   "metadata": {},
   "outputs": [],
   "source": [
    "#Example string 4 - with delimiters\n",
    "\n",
    "delim_str = ' Mon,wed,1730,pm'"
   ]
  },
  {
   "cell_type": "code",
   "execution_count": 48,
   "metadata": {},
   "outputs": [],
   "source": [
    "# Example string 5 - An Empty String\n",
    "\n",
    "empty_string = ' '\n"
   ]
  },
  {
   "cell_type": "code",
   "execution_count": 49,
   "metadata": {},
   "outputs": [],
   "source": [
    "# Example string 6 - MultiLine\n",
    "multi_line = \"\"\"Two roads diverged in a wood, and \n",
    "I took the one less traveled by,\n",
    "And that has made all the difference\"\"\""
   ]
  },
  {
   "cell_type": "code",
   "execution_count": 50,
   "metadata": {},
   "outputs": [],
   "source": [
    "# Example String 7 - Python has no special 'char' datatype. Instead you use a 1 character string.\n",
    "\n",
    "one_string = 's'\n"
   ]
  },
  {
   "cell_type": "markdown",
   "metadata": {},
   "source": [
    "## Basic formatting\n",
    "\n",
    "* Simple positional formatting should be used if the order of your arguments is not likely to change.\n",
    "\n",
    "* Use this format for a relatively small number of elements.\n"
   ]
  },
  {
   "cell_type": "code",
   "execution_count": 51,
   "metadata": {},
   "outputs": [
    {
     "name": "stdout",
     "output_type": "stream",
     "text": [
      "one two\n",
      "this is python programming class srividya\n",
      "one two\n",
      "this is python programming class srividya\n"
     ]
    }
   ],
   "source": [
    "# Old Style - Strings\n",
    "\n",
    "print('%s %s' %('one', 'two'))\n",
    "\n",
    "print('%s %s' %(sample_string, my_name))\n",
    "\n",
    "# New Style - Strings\n",
    "\n",
    "print('{} {}'.format('one', 'two'))\n",
    "\n",
    "print('{} {}'.format(sample_string, my_name))"
   ]
  },
  {
   "cell_type": "code",
   "execution_count": 52,
   "metadata": {},
   "outputs": [
    {
     "name": "stdout",
     "output_type": "stream",
     "text": [
      "this is python programming class srividya\n",
      "srividya this is python programming class\n"
     ]
    }
   ],
   "source": [
    "# New Style with explict positional index\n",
    "\n",
    "print('{0} {1}'.format(sample_string, my_name))\n",
    "\n",
    "print('{1} {0}'.format(sample_string, my_name))"
   ]
  },
  {
   "cell_type": "code",
   "execution_count": 53,
   "metadata": {},
   "outputs": [
    {
     "data": {
      "text/plain": [
       "'1 2'"
      ]
     },
     "execution_count": 53,
     "metadata": {},
     "output_type": "execute_result"
    }
   ],
   "source": [
    "# Old Style - Numbers\n",
    "'%d %d' % (1, 2)\n",
    "\n",
    "# New Style - Numbers \n",
    "\n",
    "'{} {}'.format(1, 2)"
   ]
  },
  {
   "cell_type": "code",
   "execution_count": 54,
   "metadata": {},
   "outputs": [
    {
     "name": "stdout",
     "output_type": "stream",
     "text": [
      "3.141593\n",
      "3.141593\n"
     ]
    }
   ],
   "source": [
    "# Old Style - Floats\n",
    "\n",
    "print('%f' % (3.141592653589793))\n",
    "\n",
    "# New Style - Floats\n",
    "\n",
    "print('{:f}'.format(3.141592653589793))\n"
   ]
  },
  {
   "cell_type": "markdown",
   "metadata": {},
   "source": [
    "## Padding and aligning strings\n",
    "\n",
    "* By default values are formatted to take up only as many characters as needed to represent the content \n",
    "\n",
    "* It is however also possible to define that a value should be padded to a specific length\n",
    "\n",
    "* The old style defaults to right aligned while for new style it's left"
   ]
  },
  {
   "cell_type": "code",
   "execution_count": 55,
   "metadata": {},
   "outputs": [
    {
     "name": "stdout",
     "output_type": "stream",
     "text": [
      "  srividya\n",
      "  srividya\n",
      "test      \n",
      "test      \n"
     ]
    }
   ],
   "source": [
    "# Align right - Old\n",
    "\n",
    "print('%10s' % (my_name))\n",
    "\n",
    "# Align right - New\n",
    "\n",
    "print('{:>10}'.format(my_name))\n",
    "\n",
    "# Align left - Old\n",
    "\n",
    "print('%-10s' % ('test'))\n",
    "\n",
    "# Align left -New\n",
    "\n",
    "print('{:10}'.format('test'))\n",
    "   "
   ]
  },
  {
   "cell_type": "code",
   "execution_count": 56,
   "metadata": {},
   "outputs": [
    {
     "name": "stdout",
     "output_type": "stream",
     "text": [
      "test______\n",
      "   test   \n",
      " zip  \n"
     ]
    }
   ],
   "source": [
    "# Choose padding character. Operation not available with old-style formatting.\n",
    "\n",
    "print('{:_<10}'.format('test'))\n",
    "\n",
    "# Center algn values. Operation not available with old-style formatting.\n",
    "\n",
    "print('{:^10}'.format('test'))\n",
    "\n",
    "''' If the length of the string leads to an uneven split of the padding characters\n",
    "the extra character will be placed on the right side:\n",
    "This operation is not available with old-style formatting.'''\n",
    "\n",
    "print('{:^6}'.format('zip'))"
   ]
  },
  {
   "cell_type": "markdown",
   "metadata": {},
   "source": [
    "## Truncating long strings\n",
    "\n",
    "Inverse to padding it is possible to truncate overly long values to a specific number of characters."
   ]
  },
  {
   "cell_type": "code",
   "execution_count": 57,
   "metadata": {},
   "outputs": [
    {
     "name": "stdout",
     "output_type": "stream",
     "text": [
      "Progr\n",
      "Progr\n"
     ]
    }
   ],
   "source": [
    "#Old Style\n",
    "\n",
    "print('%.5s' % ('Programming'))\n",
    "\n",
    "#New Style \n",
    "\n",
    "print('{:.5}'.format('Programming'))\n"
   ]
  },
  {
   "cell_type": "markdown",
   "metadata": {},
   "source": [
    "## Combining truncating and padding\n",
    "\n",
    "It is also possible to combine truncating and padding:\n",
    "\n"
   ]
  },
  {
   "cell_type": "code",
   "execution_count": 58,
   "metadata": {},
   "outputs": [
    {
     "name": "stdout",
     "output_type": "stream",
     "text": [
      "pytho     \n",
      "progr     \n"
     ]
    }
   ],
   "source": [
    "# Old style\n",
    "\n",
    "print('%-10.5s' %('python'))\n",
    "\n",
    "# New Style \n",
    "\n",
    "print('{:10.5}'.format('programming'))\n",
    "   "
   ]
  },
  {
   "cell_type": "markdown",
   "metadata": {},
   "source": [
    "## Padding numbers "
   ]
  },
  {
   "cell_type": "code",
   "execution_count": 59,
   "metadata": {},
   "outputs": [
    {
     "name": "stdout",
     "output_type": "stream",
     "text": [
      "  42\n",
      "  42\n",
      "003.14\n",
      "003.14\n"
     ]
    }
   ],
   "source": [
    " # Old style\n",
    "\n",
    "print('%4d' % (42,))\n",
    "\n",
    "# New style\n",
    "\n",
    "print('{:4d}'.format(42))\n",
    "\n",
    "\n",
    "# For floating points the padding value represents the length of the complete output.\n",
    "\n",
    "# Old style\n",
    "\n",
    "print('%06.2f' % (3.141592653589793))\n",
    "\n",
    "# New\n",
    "\n",
    "print('{:06.2f}'.format(3.141592653589793))\n"
   ]
  }
 ],
 "metadata": {
  "kernelspec": {
   "display_name": "Python 3",
   "language": "python",
   "name": "python3"
  },
  "language_info": {
   "codemirror_mode": {
    "name": "ipython",
    "version": 3
   },
   "file_extension": ".py",
   "mimetype": "text/x-python",
   "name": "python",
   "nbconvert_exporter": "python",
   "pygments_lexer": "ipython3",
   "version": "3.8.3"
  }
 },
 "nbformat": 4,
 "nbformat_minor": 2
}
