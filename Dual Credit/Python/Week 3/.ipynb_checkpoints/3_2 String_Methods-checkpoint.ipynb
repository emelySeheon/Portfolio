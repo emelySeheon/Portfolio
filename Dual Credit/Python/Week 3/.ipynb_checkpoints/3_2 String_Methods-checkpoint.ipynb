{
 "cells": [
  {
   "cell_type": "markdown",
   "metadata": {},
   "source": [
    "\n",
    "# This notebook illustrates the commonly used string methods."
   ]
  },
  {
   "cell_type": "code",
   "execution_count": 2,
   "metadata": {},
   "outputs": [],
   "source": [
    "#Example string 1 - Double Quotes\n",
    "sample_string = \"this is python programming class\""
   ]
  },
  {
   "cell_type": "code",
   "execution_count": 1,
   "metadata": {},
   "outputs": [],
   "source": [
    "#Example string 2 - Single Quotes\n",
    "my_name = 'srividya'"
   ]
  },
  {
   "cell_type": "code",
   "execution_count": 63,
   "metadata": {},
   "outputs": [],
   "source": [
    "#Example string 3 - with space and digits \n",
    "\n",
    "new_str = '$$CIS 1250 Programming class  '"
   ]
  },
  {
   "cell_type": "code",
   "execution_count": 31,
   "metadata": {},
   "outputs": [],
   "source": [
    "#Example string 4 - with delimiters\n",
    "\n",
    "delim_str = ' Mon,wed,1730,pm'"
   ]
  },
  {
   "cell_type": "code",
   "execution_count": 18,
   "metadata": {},
   "outputs": [],
   "source": [
    "# Example string 5 - An Empty String\n",
    "\n",
    "empty_string = ' '"
   ]
  },
  {
   "cell_type": "code",
   "execution_count": null,
   "metadata": {},
   "outputs": [],
   "source": [
    "# Example string 6 - MultiLine\n",
    "multi_line = \"\"\"Two roads diverged in a wood, and \n",
    "I took the one less traveled by,\n",
    "And that has made all the difference\"\"\"\n"
   ]
  },
  {
   "cell_type": "code",
   "execution_count": null,
   "metadata": {},
   "outputs": [],
   "source": [
    "# Example String 7 - Python has no special 'char' datatype. Instead you use a 1 character string.\n",
    "\n",
    "one_string = 's'"
   ]
  },
  {
   "cell_type": "markdown",
   "metadata": {},
   "source": [
    "## String Methods\n",
    "\n",
    "In Object Oriented Programming, a function is called a method. \n",
    "\n",
    "Since everything in python is an object, there are several methods avaialble for each type fo object. \n",
    "\n",
    "If my_name is a variable that contains a string then my_name.upper() returns all uppercase letters\n",
    "\n",
    "https://docs.python.org/3/library/stdtypes.html#string-methods\n",
    "\n",
    "\n",
    "**`string` module is depreceated in Python 3.x and we will not be covering that here** "
   ]
  },
  {
   "cell_type": "code",
   "execution_count": 9,
   "metadata": {},
   "outputs": [
    {
     "data": {
      "text/plain": [
       "'SRIVIDYA'"
      ]
     },
     "execution_count": 9,
     "metadata": {},
     "output_type": "execute_result"
    }
   ],
   "source": [
    "# returns uppercase version of the string\n",
    "\n",
    "my_name.upper()\n",
    "\n",
    "# returns the lowercase version of the string\n",
    "#my_name.lower()   "
   ]
  },
  {
   "cell_type": "code",
   "execution_count": 21,
   "metadata": {},
   "outputs": [
    {
     "name": "stdout",
     "output_type": "stream",
     "text": [
      "False\n",
      "True\n"
     ]
    }
   ],
   "source": [
    "# tests if all the string chars are characters\n",
    "print(new_str.isalpha())\n",
    "\n",
    "\n",
    "print(my_name.isalpha())"
   ]
  },
  {
   "cell_type": "code",
   "execution_count": 13,
   "metadata": {},
   "outputs": [
    {
     "data": {
      "text/plain": [
       "False"
      ]
     },
     "execution_count": 13,
     "metadata": {},
     "output_type": "execute_result"
    }
   ],
   "source": [
    "# tests if all the string chars are numbers\n",
    "new_str.isdigit()"
   ]
  },
  {
   "cell_type": "code",
   "execution_count": 19,
   "metadata": {},
   "outputs": [
    {
     "data": {
      "text/plain": [
       "True"
      ]
     },
     "execution_count": 19,
     "metadata": {},
     "output_type": "execute_result"
    }
   ],
   "source": [
    "#returns true if there are only whitespace characters in the string \n",
    "\n",
    "empty_string.isspace()"
   ]
  },
  {
   "cell_type": "code",
   "execution_count": 48,
   "metadata": {},
   "outputs": [
    {
     "name": "stdout",
     "output_type": "stream",
     "text": [
      "True\n",
      "False\n",
      "True\n"
     ]
    }
   ],
   "source": [
    "# str.startswith(prefix[, start[, end]]). The square brackets are optional arguments\n",
    "'''Return True if string starts with the prefix, otherwise return False. \n",
    "With optional end, stop comparing string at that position'''\n",
    "\n",
    "\n",
    "print(my_name.startswith('sri')) \n",
    "\n",
    "print(my_name.startswith('sri', 4))\n",
    "\n",
    "\n",
    "print(my_name.startswith('sri', 0, 9))"
   ]
  },
  {
   "cell_type": "code",
   "execution_count": 45,
   "metadata": {},
   "outputs": [
    {
     "name": "stdout",
     "output_type": "stream",
     "text": [
      "False\n",
      "False\n"
     ]
    }
   ],
   "source": [
    "# str.endswith(suffix[, start[, end]])\n",
    "'''Return True if the string ends with the specified suffix, otherwise return False. \n",
    "With optional end, stop comparing at that position '''\n",
    "\n",
    "print(my_name.endswith('r')) \n",
    "\n",
    "print(my_name.endswith('ya', 1, 5))"
   ]
  },
  {
   "cell_type": "code",
   "execution_count": 65,
   "metadata": {},
   "outputs": [
    {
     "name": "stdout",
     "output_type": "stream",
     "text": [
      "2\n",
      "-1\n",
      "11\n",
      "11\n"
     ]
    }
   ],
   "source": [
    "# str.find(sub[, start[, end]])¶ \n",
    "\n",
    "'''Return the lowest index in the string where substring is found within the slice s[start:end]\n",
    "or -1 if not found '''\n",
    "\n",
    "print(new_str.find('CIS')) \n",
    "\n",
    "print(new_str.find('cis')) \n",
    "\n",
    "print(new_str.find('Prog', 3))\n",
    "\n",
    "print(new_str.find('Prog', 3, 15))"
   ]
  },
  {
   "cell_type": "code",
   "execution_count": 9,
   "metadata": {},
   "outputs": [
    {
     "name": "stdout",
     "output_type": "stream",
     "text": [
      "2\n",
      "2\n"
     ]
    }
   ],
   "source": [
    "#str. count(sub[, start[, end]])\n",
    "'''Returns the number of times the substring is found'''\n",
    "print(my_name.count('i'))\n",
    "\n",
    "print(sample_string.count('i', 2, 10)) # seach between indices 2 and 10"
   ]
  },
  {
   "cell_type": "code",
   "execution_count": 64,
   "metadata": {},
   "outputs": [
    {
     "name": "stdout",
     "output_type": "stream",
     "text": [
      "CIS 1250 Programming class  \n",
      "$$CIS 1250 Programming class\n"
     ]
    }
   ],
   "source": [
    "# str.strip([chars])¶\n",
    "''' Return a copy of the string with the leading and trailing characters removed. \n",
    "If nothing is specified returns a string with whitespace removed from the start and end '''\n",
    "print(new_str.strip('$'))\n",
    "\n",
    "print(new_str.strip()) "
   ]
  },
  {
   "cell_type": "code",
   "execution_count": 29,
   "metadata": {},
   "outputs": [
    {
     "data": {
      "text/plain": [
       "' CIS 1250 Programming course  '"
      ]
     },
     "execution_count": 29,
     "metadata": {},
     "output_type": "execute_result"
    }
   ],
   "source": [
    "#str.replace(old, new[, count])\n",
    "\n",
    "''' Return a copy of the string with all occurrences of substring old replaced by new. \n",
    "If the optional argument count is given, only the number of occurrences indicated by the count are replaced'''\n",
    "\n",
    "print(new_str.replace('class', 'course')) "
   ]
  },
  {
   "cell_type": "code",
   "execution_count": 67,
   "metadata": {},
   "outputs": [
    {
     "name": "stdout",
     "output_type": "stream",
     "text": [
      "[' Mon', 'wed', '1730', 'pm']\n",
      "['$$CIS', '1250', 'Programming', 'class']\n",
      "[' Mon', 'wed', '1730,pm']\n"
     ]
    }
   ],
   "source": [
    "# str.split(sep=None, maxsplit=-1)¶\n",
    "\n",
    "''' returns a list of substrings separated by the given delimiter \n",
    "with no arguments splits on all whitespace chars\n",
    "maxsplit specifies the number of splits'''\n",
    "\n",
    "print(delim_str.split(','))\n",
    "\n",
    "print(new_str.split())\n",
    "\n",
    "print(delim_str.split(',', maxsplit=2))"
   ]
  },
  {
   "cell_type": "code",
   "execution_count": 76,
   "metadata": {},
   "outputs": [
    {
     "name": "stdout",
     "output_type": "stream",
     "text": [
      "aaa---bbb---ccc\n",
      "$$CIS 1250 Programming class  //// Mon,wed,1730,pm\n"
     ]
    }
   ],
   "source": [
    "# str.join(iterable)\n",
    "''' Return a string which is the concatenation of the strings \n",
    "opposite of split(), joins the elements in the given list together using the string as the delimiter'''\n",
    "\n",
    "print('---'.join(['aaa', 'bbb', 'ccc']))\n",
    "\n",
    "print('////'.join([new_str, delim_str]))"
   ]
  },
  {
   "cell_type": "markdown",
   "metadata": {},
   "source": [
    "## in operator in strings\n",
    "\n",
    "The word `in` is a boolean operator that takes two strings and returns True If the first string is contained within the second string"
   ]
  },
  {
   "cell_type": "code",
   "execution_count": 77,
   "metadata": {},
   "outputs": [
    {
     "data": {
      "text/plain": [
       "True"
      ]
     },
     "execution_count": 77,
     "metadata": {},
     "output_type": "execute_result"
    }
   ],
   "source": [
    "'a' in my_name"
   ]
  },
  {
   "cell_type": "code",
   "execution_count": 3,
   "metadata": {},
   "outputs": [
    {
     "data": {
      "text/plain": [
       "2"
      ]
     },
     "execution_count": 3,
     "metadata": {},
     "output_type": "execute_result"
    }
   ],
   "source": []
  },
  {
   "cell_type": "code",
   "execution_count": null,
   "metadata": {},
   "outputs": [],
   "source": []
  }
 ],
 "metadata": {
  "kernelspec": {
   "display_name": "Python 3",
   "language": "python",
   "name": "python3"
  },
  "language_info": {
   "codemirror_mode": {
    "name": "ipython",
    "version": 3
   },
   "file_extension": ".py",
   "mimetype": "text/x-python",
   "name": "python",
   "nbconvert_exporter": "python",
   "pygments_lexer": "ipython3",
   "version": "3.8.3"
  }
 },
 "nbformat": 4,
 "nbformat_minor": 2
}
